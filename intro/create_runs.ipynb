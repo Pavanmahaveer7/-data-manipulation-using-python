{
  "cells": [
    {
      "cell_type": "markdown",
      "metadata": {
        "id": "view-in-github",
        "colab_type": "text"
      },
      "source": [
        "<a href=\"https://colab.research.google.com/github/Pavanmahaveer7/-data-manipulation-using-python/blob/main/intro/create_runs.ipynb\" target=\"_parent\"><img src=\"https://colab.research.google.com/assets/colab-badge.svg\" alt=\"Open In Colab\"/></a>"
      ]
    },
    {
      "cell_type": "markdown",
      "metadata": {
        "id": "7BjqPEdZTpTG"
      },
      "source": [
        "<img src=\"http://wandb.me/logo-im-png\" width=\"400\" alt=\"Weights & Biases\" />\n",
        "<!--- @wandbcode{course-cicd} -->"
      ]
    },
    {
      "cell_type": "markdown",
      "metadata": {
        "id": "view-in-github"
      },
      "source": [
        "<a href=\"https://colab.research.google.com/github/hamelsmu/wandb-cicd/blob/main/intro/create_runs.ipynb\" target=\"_parent\"><img src=\"https://colab.research.google.com/assets/colab-badge.svg\" alt=\"Open In Colab\"/></a>"
      ]
    },
    {
      "cell_type": "markdown",
      "metadata": {
        "id": "H9kPXnlJTpTG"
      },
      "source": [
        "## CI/CD For Machine Learning Course\n",
        "\n",
        "[Course website](https://www.wandb.courses/courses/ci-cd-for-machine-learning/)\n",
        "\n",
        "This notebook creates synthetic runs so you can explore the W&B user interface.\n",
        "\n",
        "After you create runs, please login to the W&B user interface and explore it a bit.  This will give you important context for the course."
      ]
    },
    {
      "cell_type": "markdown",
      "metadata": {
        "id": "Qb0Yw5PMTpTI"
      },
      "source": [
        "## Setup\n",
        "\n",
        "First, let's install `wandb`:"
      ]
    },
    {
      "cell_type": "code",
      "execution_count": 1,
      "metadata": {
        "id": "MWJ_tgzVTpTH",
        "colab": {
          "base_uri": "https://localhost:8080/"
        },
        "outputId": "53fc8762-d57f-4992-8f55-b77c029486da"
      },
      "outputs": [
        {
          "output_type": "stream",
          "name": "stdout",
          "text": [
            "Requirement already satisfied: wandb in /usr/local/lib/python3.11/dist-packages (0.19.10)\n",
            "Requirement already satisfied: click!=8.0.0,>=7.1 in /usr/local/lib/python3.11/dist-packages (from wandb) (8.1.8)\n",
            "Requirement already satisfied: docker-pycreds>=0.4.0 in /usr/local/lib/python3.11/dist-packages (from wandb) (0.4.0)\n",
            "Requirement already satisfied: gitpython!=3.1.29,>=1.0.0 in /usr/local/lib/python3.11/dist-packages (from wandb) (3.1.44)\n",
            "Requirement already satisfied: platformdirs in /usr/local/lib/python3.11/dist-packages (from wandb) (4.3.7)\n",
            "Requirement already satisfied: protobuf!=4.21.0,!=5.28.0,<7,>=3.19.0 in /usr/local/lib/python3.11/dist-packages (from wandb) (5.29.4)\n",
            "Requirement already satisfied: psutil>=5.0.0 in /usr/local/lib/python3.11/dist-packages (from wandb) (5.9.5)\n",
            "Requirement already satisfied: pydantic<3 in /usr/local/lib/python3.11/dist-packages (from wandb) (2.11.3)\n",
            "Requirement already satisfied: pyyaml in /usr/local/lib/python3.11/dist-packages (from wandb) (6.0.2)\n",
            "Requirement already satisfied: requests<3,>=2.0.0 in /usr/local/lib/python3.11/dist-packages (from wandb) (2.32.3)\n",
            "Requirement already satisfied: sentry-sdk>=2.0.0 in /usr/local/lib/python3.11/dist-packages (from wandb) (2.27.0)\n",
            "Requirement already satisfied: setproctitle in /usr/local/lib/python3.11/dist-packages (from wandb) (1.3.5)\n",
            "Requirement already satisfied: setuptools in /usr/local/lib/python3.11/dist-packages (from wandb) (75.2.0)\n",
            "Requirement already satisfied: typing-extensions<5,>=4.4 in /usr/local/lib/python3.11/dist-packages (from wandb) (4.13.2)\n",
            "Requirement already satisfied: six>=1.4.0 in /usr/local/lib/python3.11/dist-packages (from docker-pycreds>=0.4.0->wandb) (1.17.0)\n",
            "Requirement already satisfied: gitdb<5,>=4.0.1 in /usr/local/lib/python3.11/dist-packages (from gitpython!=3.1.29,>=1.0.0->wandb) (4.0.12)\n",
            "Requirement already satisfied: annotated-types>=0.6.0 in /usr/local/lib/python3.11/dist-packages (from pydantic<3->wandb) (0.7.0)\n",
            "Requirement already satisfied: pydantic-core==2.33.1 in /usr/local/lib/python3.11/dist-packages (from pydantic<3->wandb) (2.33.1)\n",
            "Requirement already satisfied: typing-inspection>=0.4.0 in /usr/local/lib/python3.11/dist-packages (from pydantic<3->wandb) (0.4.0)\n",
            "Requirement already satisfied: charset-normalizer<4,>=2 in /usr/local/lib/python3.11/dist-packages (from requests<3,>=2.0.0->wandb) (3.4.1)\n",
            "Requirement already satisfied: idna<4,>=2.5 in /usr/local/lib/python3.11/dist-packages (from requests<3,>=2.0.0->wandb) (3.10)\n",
            "Requirement already satisfied: urllib3<3,>=1.21.1 in /usr/local/lib/python3.11/dist-packages (from requests<3,>=2.0.0->wandb) (2.4.0)\n",
            "Requirement already satisfied: certifi>=2017.4.17 in /usr/local/lib/python3.11/dist-packages (from requests<3,>=2.0.0->wandb) (2025.1.31)\n",
            "Requirement already satisfied: smmap<6,>=3.0.1 in /usr/local/lib/python3.11/dist-packages (from gitdb<5,>=4.0.1->gitpython!=3.1.29,>=1.0.0->wandb) (5.0.2)\n"
          ]
        }
      ],
      "source": [
        "!pip install wandb"
      ]
    },
    {
      "cell_type": "code",
      "execution_count": 2,
      "metadata": {
        "id": "4Q-GLs7-TpTI",
        "colab": {
          "base_uri": "https://localhost:8080/",
          "height": 1000
        },
        "outputId": "8395826b-24c7-4a12-b2be-26646cbb58fc"
      },
      "outputs": [
        {
          "output_type": "display_data",
          "data": {
            "text/plain": [
              "<IPython.core.display.Javascript object>"
            ],
            "application/javascript": [
              "\n",
              "        window._wandbApiKey = new Promise((resolve, reject) => {\n",
              "            function loadScript(url) {\n",
              "            return new Promise(function(resolve, reject) {\n",
              "                let newScript = document.createElement(\"script\");\n",
              "                newScript.onerror = reject;\n",
              "                newScript.onload = resolve;\n",
              "                document.body.appendChild(newScript);\n",
              "                newScript.src = url;\n",
              "            });\n",
              "            }\n",
              "            loadScript(\"https://cdn.jsdelivr.net/npm/postmate/build/postmate.min.js\").then(() => {\n",
              "            const iframe = document.createElement('iframe')\n",
              "            iframe.style.cssText = \"width:0;height:0;border:none\"\n",
              "            document.body.appendChild(iframe)\n",
              "            const handshake = new Postmate({\n",
              "                container: iframe,\n",
              "                url: 'https://wandb.ai/authorize'\n",
              "            });\n",
              "            const timeout = setTimeout(() => reject(\"Couldn't auto authenticate\"), 5000)\n",
              "            handshake.then(function(child) {\n",
              "                child.on('authorize', data => {\n",
              "                    clearTimeout(timeout)\n",
              "                    resolve(data)\n",
              "                });\n",
              "            });\n",
              "            })\n",
              "        });\n",
              "    "
            ]
          },
          "metadata": {}
        },
        {
          "output_type": "stream",
          "name": "stderr",
          "text": [
            "\u001b[34m\u001b[1mwandb\u001b[0m: Logging into wandb.ai. (Learn how to deploy a W&B server locally: https://wandb.me/wandb-server)\n",
            "\u001b[34m\u001b[1mwandb\u001b[0m: You can find your API key in your browser here: https://wandb.ai/authorize\n",
            "wandb: Paste an API key from your profile and hit enter:"
          ]
        },
        {
          "name": "stdout",
          "output_type": "stream",
          "text": [
            " ··········\n"
          ]
        },
        {
          "output_type": "stream",
          "name": "stderr",
          "text": [
            "\u001b[34m\u001b[1mwandb\u001b[0m: \u001b[33mWARNING\u001b[0m If you're specifying your api key in code, ensure this code is not shared publicly.\n",
            "\u001b[34m\u001b[1mwandb\u001b[0m: \u001b[33mWARNING\u001b[0m Consider setting the WANDB_API_KEY environment variable, or running `wandb login` from the command line.\n",
            "\u001b[34m\u001b[1mwandb\u001b[0m: No netrc file found, creating one.\n",
            "\u001b[34m\u001b[1mwandb\u001b[0m: Appending key for api.wandb.ai to your netrc file: /root/.netrc\n",
            "\u001b[34m\u001b[1mwandb\u001b[0m: Currently logged in as: \u001b[33mrepatikosam2025\u001b[0m (\u001b[33mrepatikosam2025-tabor-college\u001b[0m) to \u001b[32mhttps://api.wandb.ai\u001b[0m. Use \u001b[1m`wandb login --relogin`\u001b[0m to force relogin\n"
          ]
        },
        {
          "output_type": "display_data",
          "data": {
            "text/plain": [
              "<IPython.core.display.HTML object>"
            ],
            "text/html": [
              "Tracking run with wandb version 0.19.10"
            ]
          },
          "metadata": {}
        },
        {
          "output_type": "display_data",
          "data": {
            "text/plain": [
              "<IPython.core.display.HTML object>"
            ],
            "text/html": [
              "Run data is saved locally in <code>/content/wandb/run-20250428_222034-orh3lmhx</code>"
            ]
          },
          "metadata": {}
        },
        {
          "output_type": "display_data",
          "data": {
            "text/plain": [
              "<IPython.core.display.HTML object>"
            ],
            "text/html": [
              "Syncing run <strong><a href='https://wandb.ai/repatikosam2025-tabor-college/cicd-quickstart/runs/orh3lmhx' target=\"_blank\">adventurous-aardvark-1</a></strong> to <a href='https://wandb.ai/repatikosam2025-tabor-college/cicd-quickstart' target=\"_blank\">Weights & Biases</a> (<a href='https://wandb.me/developer-guide' target=\"_blank\">docs</a>)<br>"
            ]
          },
          "metadata": {}
        },
        {
          "output_type": "display_data",
          "data": {
            "text/plain": [
              "<IPython.core.display.HTML object>"
            ],
            "text/html": [
              " View project at <a href='https://wandb.ai/repatikosam2025-tabor-college/cicd-quickstart' target=\"_blank\">https://wandb.ai/repatikosam2025-tabor-college/cicd-quickstart</a>"
            ]
          },
          "metadata": {}
        },
        {
          "output_type": "display_data",
          "data": {
            "text/plain": [
              "<IPython.core.display.HTML object>"
            ],
            "text/html": [
              " View run at <a href='https://wandb.ai/repatikosam2025-tabor-college/cicd-quickstart/runs/orh3lmhx' target=\"_blank\">https://wandb.ai/repatikosam2025-tabor-college/cicd-quickstart/runs/orh3lmhx</a>"
            ]
          },
          "metadata": {}
        },
        {
          "output_type": "display_data",
          "data": {
            "text/plain": [
              "<IPython.core.display.HTML object>"
            ],
            "text/html": []
          },
          "metadata": {}
        },
        {
          "output_type": "display_data",
          "data": {
            "text/plain": [
              "<IPython.core.display.HTML object>"
            ],
            "text/html": [
              "<br>    <style><br>        .wandb-row {<br>            display: flex;<br>            flex-direction: row;<br>            flex-wrap: wrap;<br>            justify-content: flex-start;<br>            width: 100%;<br>        }<br>        .wandb-col {<br>            display: flex;<br>            flex-direction: column;<br>            flex-basis: 100%;<br>            flex: 1;<br>            padding: 10px;<br>        }<br>    </style><br><div class=\"wandb-row\"><div class=\"wandb-col\"><h3>Run history:</h3><br/><table class=\"wandb\"><tr><td>acc</td><td>▁▂▂▃▃▃▄▅▄▅▆▆▅▆▆▇▆▇▇▇▇▇▇▇▇▆▆▆█▇▆▇█▇▇▇█▇█▇</td></tr><tr><td>loss</td><td>█▅▅▅▄▃▄▄▄▄▃▃▃▃▃▃▃▃▃▃▃▃▂▃▂▁▁▁▁▂▂▁▂▂▂▁▁▁▂▁</td></tr><tr><td>val_acc</td><td>▁▃▄▅▅▅▄▅▆▅▅▅▇▅▅▆▆▆▆▇▆▆▆▆▆▆▆▇▆▆▆▇▇▇█▇█▇▇▇</td></tr><tr><td>val_loss</td><td>█▄▄▄▄▄▄▃▃▃▃▂▃▂▃▃▃▂▃▃▂▂▂▂▂▂▂▂▂▂▂▂▂▂▂▁▂▂▂▁</td></tr></table><br/></div><div class=\"wandb-col\"><h3>Run summary:</h3><br/><table class=\"wandb\"><tr><td>acc</td><td>3.62354</td></tr><tr><td>loss</td><td>0.03155</td></tr><tr><td>val_acc</td><td>3.16283</td></tr><tr><td>val_loss</td><td>0.08601</td></tr></table><br/></div></div>"
            ]
          },
          "metadata": {}
        },
        {
          "output_type": "display_data",
          "data": {
            "text/plain": [
              "<IPython.core.display.HTML object>"
            ],
            "text/html": [
              " View run <strong style=\"color:#cdcd00\">adventurous-aardvark-1</strong> at: <a href='https://wandb.ai/repatikosam2025-tabor-college/cicd-quickstart/runs/orh3lmhx' target=\"_blank\">https://wandb.ai/repatikosam2025-tabor-college/cicd-quickstart/runs/orh3lmhx</a><br> View project at: <a href='https://wandb.ai/repatikosam2025-tabor-college/cicd-quickstart' target=\"_blank\">https://wandb.ai/repatikosam2025-tabor-college/cicd-quickstart</a><br>Synced 5 W&B file(s), 0 media file(s), 0 artifact file(s) and 0 other file(s)"
            ]
          },
          "metadata": {}
        },
        {
          "output_type": "display_data",
          "data": {
            "text/plain": [
              "<IPython.core.display.HTML object>"
            ],
            "text/html": [
              "Find logs at: <code>./wandb/run-20250428_222034-orh3lmhx/logs</code>"
            ]
          },
          "metadata": {}
        },
        {
          "output_type": "display_data",
          "data": {
            "text/plain": [
              "<IPython.core.display.HTML object>"
            ],
            "text/html": [
              "Tracking run with wandb version 0.19.10"
            ]
          },
          "metadata": {}
        },
        {
          "output_type": "display_data",
          "data": {
            "text/plain": [
              "<IPython.core.display.HTML object>"
            ],
            "text/html": [
              "Run data is saved locally in <code>/content/wandb/run-20250428_222037-db79zavu</code>"
            ]
          },
          "metadata": {}
        },
        {
          "output_type": "display_data",
          "data": {
            "text/plain": [
              "<IPython.core.display.HTML object>"
            ],
            "text/html": [
              "Syncing run <strong><a href='https://wandb.ai/repatikosam2025-tabor-college/cicd-quickstart/runs/db79zavu' target=\"_blank\">bountiful-badger-2</a></strong> to <a href='https://wandb.ai/repatikosam2025-tabor-college/cicd-quickstart' target=\"_blank\">Weights & Biases</a> (<a href='https://wandb.me/developer-guide' target=\"_blank\">docs</a>)<br>"
            ]
          },
          "metadata": {}
        },
        {
          "output_type": "display_data",
          "data": {
            "text/plain": [
              "<IPython.core.display.HTML object>"
            ],
            "text/html": [
              " View project at <a href='https://wandb.ai/repatikosam2025-tabor-college/cicd-quickstart' target=\"_blank\">https://wandb.ai/repatikosam2025-tabor-college/cicd-quickstart</a>"
            ]
          },
          "metadata": {}
        },
        {
          "output_type": "display_data",
          "data": {
            "text/plain": [
              "<IPython.core.display.HTML object>"
            ],
            "text/html": [
              " View run at <a href='https://wandb.ai/repatikosam2025-tabor-college/cicd-quickstart/runs/db79zavu' target=\"_blank\">https://wandb.ai/repatikosam2025-tabor-college/cicd-quickstart/runs/db79zavu</a>"
            ]
          },
          "metadata": {}
        },
        {
          "output_type": "display_data",
          "data": {
            "text/plain": [
              "<IPython.core.display.HTML object>"
            ],
            "text/html": []
          },
          "metadata": {}
        },
        {
          "output_type": "display_data",
          "data": {
            "text/plain": [
              "<IPython.core.display.HTML object>"
            ],
            "text/html": [
              "<br>    <style><br>        .wandb-row {<br>            display: flex;<br>            flex-direction: row;<br>            flex-wrap: wrap;<br>            justify-content: flex-start;<br>            width: 100%;<br>        }<br>        .wandb-col {<br>            display: flex;<br>            flex-direction: column;<br>            flex-basis: 100%;<br>            flex: 1;<br>            padding: 10px;<br>        }<br>    </style><br><div class=\"wandb-row\"><div class=\"wandb-col\"><h3>Run history:</h3><br/><table class=\"wandb\"><tr><td>acc</td><td>▁▃▃▃▃▃▅▄▅▅▄▅▆▅▆▆▆▇▇▆▇▇▇██▇▇█▇███▇▇██▇▇██</td></tr><tr><td>loss</td><td>█▇▆▅▅▄▃▄▄▃▃▃▃▃▃▂▃▂▂▂▂▂▂▂▂▁▂▂▂▂▂▂▁▁▁▂▁▂▁▁</td></tr><tr><td>val_acc</td><td>▁▁▂▃▄▅▆▆▅▆▆▇▆▆▆▇▇▇▇██▇▇█▇▇▇██▇▇███▇█▇▇█▇</td></tr><tr><td>val_loss</td><td>█▇▆▆▇▇▆▅▄▅▃▃▅▅▅▄▅▃▅▄▃▅▂▃▃▃▄▃▂▂▁▁▂▁▃▃▃▃▂▃</td></tr></table><br/></div><div class=\"wandb-col\"><h3>Run summary:</h3><br/><table class=\"wandb\"><tr><td>acc</td><td>3.26897</td></tr><tr><td>loss</td><td>-0.05367</td></tr><tr><td>val_acc</td><td>2.79032</td></tr><tr><td>val_loss</td><td>0.03191</td></tr></table><br/></div></div>"
            ]
          },
          "metadata": {}
        },
        {
          "output_type": "display_data",
          "data": {
            "text/plain": [
              "<IPython.core.display.HTML object>"
            ],
            "text/html": [
              " View run <strong style=\"color:#cdcd00\">bountiful-badger-2</strong> at: <a href='https://wandb.ai/repatikosam2025-tabor-college/cicd-quickstart/runs/db79zavu' target=\"_blank\">https://wandb.ai/repatikosam2025-tabor-college/cicd-quickstart/runs/db79zavu</a><br> View project at: <a href='https://wandb.ai/repatikosam2025-tabor-college/cicd-quickstart' target=\"_blank\">https://wandb.ai/repatikosam2025-tabor-college/cicd-quickstart</a><br>Synced 5 W&B file(s), 0 media file(s), 0 artifact file(s) and 0 other file(s)"
            ]
          },
          "metadata": {}
        },
        {
          "output_type": "display_data",
          "data": {
            "text/plain": [
              "<IPython.core.display.HTML object>"
            ],
            "text/html": [
              "Find logs at: <code>./wandb/run-20250428_222037-db79zavu/logs</code>"
            ]
          },
          "metadata": {}
        },
        {
          "output_type": "display_data",
          "data": {
            "text/plain": [
              "<IPython.core.display.HTML object>"
            ],
            "text/html": [
              "Tracking run with wandb version 0.19.10"
            ]
          },
          "metadata": {}
        },
        {
          "output_type": "display_data",
          "data": {
            "text/plain": [
              "<IPython.core.display.HTML object>"
            ],
            "text/html": [
              "Run data is saved locally in <code>/content/wandb/run-20250428_222038-rvlsojp3</code>"
            ]
          },
          "metadata": {}
        },
        {
          "output_type": "display_data",
          "data": {
            "text/plain": [
              "<IPython.core.display.HTML object>"
            ],
            "text/html": [
              "Syncing run <strong><a href='https://wandb.ai/repatikosam2025-tabor-college/cicd-quickstart/runs/rvlsojp3' target=\"_blank\">clairvoyant-chipmunk-3</a></strong> to <a href='https://wandb.ai/repatikosam2025-tabor-college/cicd-quickstart' target=\"_blank\">Weights & Biases</a> (<a href='https://wandb.me/developer-guide' target=\"_blank\">docs</a>)<br>"
            ]
          },
          "metadata": {}
        },
        {
          "output_type": "display_data",
          "data": {
            "text/plain": [
              "<IPython.core.display.HTML object>"
            ],
            "text/html": [
              " View project at <a href='https://wandb.ai/repatikosam2025-tabor-college/cicd-quickstart' target=\"_blank\">https://wandb.ai/repatikosam2025-tabor-college/cicd-quickstart</a>"
            ]
          },
          "metadata": {}
        },
        {
          "output_type": "display_data",
          "data": {
            "text/plain": [
              "<IPython.core.display.HTML object>"
            ],
            "text/html": [
              " View run at <a href='https://wandb.ai/repatikosam2025-tabor-college/cicd-quickstart/runs/rvlsojp3' target=\"_blank\">https://wandb.ai/repatikosam2025-tabor-college/cicd-quickstart/runs/rvlsojp3</a>"
            ]
          },
          "metadata": {}
        },
        {
          "output_type": "display_data",
          "data": {
            "text/plain": [
              "<IPython.core.display.HTML object>"
            ],
            "text/html": []
          },
          "metadata": {}
        },
        {
          "output_type": "display_data",
          "data": {
            "text/plain": [
              "<IPython.core.display.HTML object>"
            ],
            "text/html": [
              "<br>    <style><br>        .wandb-row {<br>            display: flex;<br>            flex-direction: row;<br>            flex-wrap: wrap;<br>            justify-content: flex-start;<br>            width: 100%;<br>        }<br>        .wandb-col {<br>            display: flex;<br>            flex-direction: column;<br>            flex-basis: 100%;<br>            flex: 1;<br>            padding: 10px;<br>        }<br>    </style><br><div class=\"wandb-row\"><div class=\"wandb-col\"><h3>Run history:</h3><br/><table class=\"wandb\"><tr><td>acc</td><td>▂▁▂▃▃▄▄▄▅▅▅▆▄▅▆▆▅▅▆▅▆▆▆▇▆▇▇▆▇▆▇██▇▇█▇▇██</td></tr><tr><td>loss</td><td>▇█▇▆▅▅▄▄▄▄▃▄▃▃▄▃▃▂▂▂▂▂▂▃▂▃▂▂▁▂▂▁▂▁▁▁▂▁▂▁</td></tr><tr><td>val_acc</td><td>▁▃▄▄▅▅▄▅▅▆▆▅▇▆▆▇▇▇▆▆▇▇▇▇▆▇▆▇▇▇▇▇▇▇██▇█▇▇</td></tr><tr><td>val_loss</td><td>█▇▆▆▅▅▄▅▄▅▄▄▄▄▄▃▃▃▃▃▂▃▂▃▃▂▂▃▃▁▂▂▃▂▂▂▁▂▁▁</td></tr></table><br/></div><div class=\"wandb-col\"><h3>Run summary:</h3><br/><table class=\"wandb\"><tr><td>acc</td><td>3.13505</td></tr><tr><td>loss</td><td>-0.02113</td></tr><tr><td>val_acc</td><td>2.84283</td></tr><tr><td>val_loss</td><td>0.02865</td></tr></table><br/></div></div>"
            ]
          },
          "metadata": {}
        },
        {
          "output_type": "display_data",
          "data": {
            "text/plain": [
              "<IPython.core.display.HTML object>"
            ],
            "text/html": [
              " View run <strong style=\"color:#cdcd00\">clairvoyant-chipmunk-3</strong> at: <a href='https://wandb.ai/repatikosam2025-tabor-college/cicd-quickstart/runs/rvlsojp3' target=\"_blank\">https://wandb.ai/repatikosam2025-tabor-college/cicd-quickstart/runs/rvlsojp3</a><br> View project at: <a href='https://wandb.ai/repatikosam2025-tabor-college/cicd-quickstart' target=\"_blank\">https://wandb.ai/repatikosam2025-tabor-college/cicd-quickstart</a><br>Synced 5 W&B file(s), 0 media file(s), 0 artifact file(s) and 0 other file(s)"
            ]
          },
          "metadata": {}
        },
        {
          "output_type": "display_data",
          "data": {
            "text/plain": [
              "<IPython.core.display.HTML object>"
            ],
            "text/html": [
              "Find logs at: <code>./wandb/run-20250428_222038-rvlsojp3/logs</code>"
            ]
          },
          "metadata": {}
        },
        {
          "output_type": "display_data",
          "data": {
            "text/plain": [
              "<IPython.core.display.HTML object>"
            ],
            "text/html": [
              "Tracking run with wandb version 0.19.10"
            ]
          },
          "metadata": {}
        },
        {
          "output_type": "display_data",
          "data": {
            "text/plain": [
              "<IPython.core.display.HTML object>"
            ],
            "text/html": [
              "Run data is saved locally in <code>/content/wandb/run-20250428_222040-nv0j2jtv</code>"
            ]
          },
          "metadata": {}
        },
        {
          "output_type": "display_data",
          "data": {
            "text/plain": [
              "<IPython.core.display.HTML object>"
            ],
            "text/html": [
              "Syncing run <strong><a href='https://wandb.ai/repatikosam2025-tabor-college/cicd-quickstart/runs/nv0j2jtv' target=\"_blank\">dastardly-duck-4</a></strong> to <a href='https://wandb.ai/repatikosam2025-tabor-college/cicd-quickstart' target=\"_blank\">Weights & Biases</a> (<a href='https://wandb.me/developer-guide' target=\"_blank\">docs</a>)<br>"
            ]
          },
          "metadata": {}
        },
        {
          "output_type": "display_data",
          "data": {
            "text/plain": [
              "<IPython.core.display.HTML object>"
            ],
            "text/html": [
              " View project at <a href='https://wandb.ai/repatikosam2025-tabor-college/cicd-quickstart' target=\"_blank\">https://wandb.ai/repatikosam2025-tabor-college/cicd-quickstart</a>"
            ]
          },
          "metadata": {}
        },
        {
          "output_type": "display_data",
          "data": {
            "text/plain": [
              "<IPython.core.display.HTML object>"
            ],
            "text/html": [
              " View run at <a href='https://wandb.ai/repatikosam2025-tabor-college/cicd-quickstart/runs/nv0j2jtv' target=\"_blank\">https://wandb.ai/repatikosam2025-tabor-college/cicd-quickstart/runs/nv0j2jtv</a>"
            ]
          },
          "metadata": {}
        },
        {
          "output_type": "display_data",
          "data": {
            "text/plain": [
              "<IPython.core.display.HTML object>"
            ],
            "text/html": []
          },
          "metadata": {}
        },
        {
          "output_type": "display_data",
          "data": {
            "text/plain": [
              "<IPython.core.display.HTML object>"
            ],
            "text/html": [
              "<br>    <style><br>        .wandb-row {<br>            display: flex;<br>            flex-direction: row;<br>            flex-wrap: wrap;<br>            justify-content: flex-start;<br>            width: 100%;<br>        }<br>        .wandb-col {<br>            display: flex;<br>            flex-direction: column;<br>            flex-basis: 100%;<br>            flex: 1;<br>            padding: 10px;<br>        }<br>    </style><br><div class=\"wandb-row\"><div class=\"wandb-col\"><h3>Run history:</h3><br/><table class=\"wandb\"><tr><td>acc</td><td>▁▂▄▂▃▃▄▅▅▄▄▆▆▆▅▇▅▆▆▆▇▇▇▆▆▅▇▆▆▇▆▇▇▆▇██▇▇▇</td></tr><tr><td>loss</td><td>█▅▄▅▄▅▄▃▄▄▃▄▃▃▃▃▃▃▃▂▃▂▃▃▂▃▂▃▂▁▂▂▂▂▁▂▂▂▁▂</td></tr><tr><td>val_acc</td><td>▁▁▂▃▂▃▄▅▅▅▅▅▆▅▅▇▇▇▇▆▆▇▇▇▇▇▆▇▇▇▇█▇█▇▇▇▇▇█</td></tr><tr><td>val_loss</td><td>█▇▆▅▄▅▄▃▃▃▂▃▂▃▃▂▃▃▃▂▃▂▃▂▂▂▃▂▂▂▂▁▂▁▁▂▁▁▂▁</td></tr></table><br/></div><div class=\"wandb-col\"><h3>Run summary:</h3><br/><table class=\"wandb\"><tr><td>acc</td><td>3.8458</td></tr><tr><td>loss</td><td>-0.16025</td></tr><tr><td>val_acc</td><td>3.33838</td></tr><tr><td>val_loss</td><td>-0.02567</td></tr></table><br/></div></div>"
            ]
          },
          "metadata": {}
        },
        {
          "output_type": "display_data",
          "data": {
            "text/plain": [
              "<IPython.core.display.HTML object>"
            ],
            "text/html": [
              " View run <strong style=\"color:#cdcd00\">dastardly-duck-4</strong> at: <a href='https://wandb.ai/repatikosam2025-tabor-college/cicd-quickstart/runs/nv0j2jtv' target=\"_blank\">https://wandb.ai/repatikosam2025-tabor-college/cicd-quickstart/runs/nv0j2jtv</a><br> View project at: <a href='https://wandb.ai/repatikosam2025-tabor-college/cicd-quickstart' target=\"_blank\">https://wandb.ai/repatikosam2025-tabor-college/cicd-quickstart</a><br>Synced 5 W&B file(s), 0 media file(s), 0 artifact file(s) and 0 other file(s)"
            ]
          },
          "metadata": {}
        },
        {
          "output_type": "display_data",
          "data": {
            "text/plain": [
              "<IPython.core.display.HTML object>"
            ],
            "text/html": [
              "Find logs at: <code>./wandb/run-20250428_222040-nv0j2jtv/logs</code>"
            ]
          },
          "metadata": {}
        },
        {
          "output_type": "display_data",
          "data": {
            "text/plain": [
              "<IPython.core.display.HTML object>"
            ],
            "text/html": [
              "Tracking run with wandb version 0.19.10"
            ]
          },
          "metadata": {}
        },
        {
          "output_type": "display_data",
          "data": {
            "text/plain": [
              "<IPython.core.display.HTML object>"
            ],
            "text/html": [
              "Run data is saved locally in <code>/content/wandb/run-20250428_222042-cl5jwo06</code>"
            ]
          },
          "metadata": {}
        },
        {
          "output_type": "display_data",
          "data": {
            "text/plain": [
              "<IPython.core.display.HTML object>"
            ],
            "text/html": [
              "Syncing run <strong><a href='https://wandb.ai/repatikosam2025-tabor-college/cicd-quickstart/runs/cl5jwo06' target=\"_blank\">eloquent-elephant-5</a></strong> to <a href='https://wandb.ai/repatikosam2025-tabor-college/cicd-quickstart' target=\"_blank\">Weights & Biases</a> (<a href='https://wandb.me/developer-guide' target=\"_blank\">docs</a>)<br>"
            ]
          },
          "metadata": {}
        },
        {
          "output_type": "display_data",
          "data": {
            "text/plain": [
              "<IPython.core.display.HTML object>"
            ],
            "text/html": [
              " View project at <a href='https://wandb.ai/repatikosam2025-tabor-college/cicd-quickstart' target=\"_blank\">https://wandb.ai/repatikosam2025-tabor-college/cicd-quickstart</a>"
            ]
          },
          "metadata": {}
        },
        {
          "output_type": "display_data",
          "data": {
            "text/plain": [
              "<IPython.core.display.HTML object>"
            ],
            "text/html": [
              " View run at <a href='https://wandb.ai/repatikosam2025-tabor-college/cicd-quickstart/runs/cl5jwo06' target=\"_blank\">https://wandb.ai/repatikosam2025-tabor-college/cicd-quickstart/runs/cl5jwo06</a>"
            ]
          },
          "metadata": {}
        },
        {
          "output_type": "display_data",
          "data": {
            "text/plain": [
              "<IPython.core.display.HTML object>"
            ],
            "text/html": []
          },
          "metadata": {}
        },
        {
          "output_type": "display_data",
          "data": {
            "text/plain": [
              "<IPython.core.display.HTML object>"
            ],
            "text/html": [
              " View run <strong style=\"color:#cdcd00\">eloquent-elephant-5</strong> at: <a href='https://wandb.ai/repatikosam2025-tabor-college/cicd-quickstart/runs/cl5jwo06' target=\"_blank\">https://wandb.ai/repatikosam2025-tabor-college/cicd-quickstart/runs/cl5jwo06</a><br> View project at: <a href='https://wandb.ai/repatikosam2025-tabor-college/cicd-quickstart' target=\"_blank\">https://wandb.ai/repatikosam2025-tabor-college/cicd-quickstart</a><br>Synced 5 W&B file(s), 2 media file(s), 3 artifact file(s) and 0 other file(s)"
            ]
          },
          "metadata": {}
        },
        {
          "output_type": "display_data",
          "data": {
            "text/plain": [
              "<IPython.core.display.HTML object>"
            ],
            "text/html": [
              "Find logs at: <code>./wandb/run-20250428_222042-cl5jwo06/logs</code>"
            ]
          },
          "metadata": {}
        },
        {
          "output_type": "display_data",
          "data": {
            "text/plain": [
              "<IPython.core.display.HTML object>"
            ],
            "text/html": [
              "Tracking run with wandb version 0.19.10"
            ]
          },
          "metadata": {}
        },
        {
          "output_type": "display_data",
          "data": {
            "text/plain": [
              "<IPython.core.display.HTML object>"
            ],
            "text/html": [
              "Run data is saved locally in <code>/content/wandb/run-20250428_222045-jdgtny82</code>"
            ]
          },
          "metadata": {}
        },
        {
          "output_type": "display_data",
          "data": {
            "text/plain": [
              "<IPython.core.display.HTML object>"
            ],
            "text/html": [
              "Syncing run <strong><a href='https://wandb.ai/repatikosam2025-tabor-college/lineage-example/runs/jdgtny82' target=\"_blank\">eager-brook-1</a></strong> to <a href='https://wandb.ai/repatikosam2025-tabor-college/lineage-example' target=\"_blank\">Weights & Biases</a> (<a href='https://wandb.me/developer-guide' target=\"_blank\">docs</a>)<br>"
            ]
          },
          "metadata": {}
        },
        {
          "output_type": "display_data",
          "data": {
            "text/plain": [
              "<IPython.core.display.HTML object>"
            ],
            "text/html": [
              " View project at <a href='https://wandb.ai/repatikosam2025-tabor-college/lineage-example' target=\"_blank\">https://wandb.ai/repatikosam2025-tabor-college/lineage-example</a>"
            ]
          },
          "metadata": {}
        },
        {
          "output_type": "display_data",
          "data": {
            "text/plain": [
              "<IPython.core.display.HTML object>"
            ],
            "text/html": [
              " View run at <a href='https://wandb.ai/repatikosam2025-tabor-college/lineage-example/runs/jdgtny82' target=\"_blank\">https://wandb.ai/repatikosam2025-tabor-college/lineage-example/runs/jdgtny82</a>"
            ]
          },
          "metadata": {}
        },
        {
          "output_type": "display_data",
          "data": {
            "text/plain": [
              "<IPython.core.display.HTML object>"
            ],
            "text/html": []
          },
          "metadata": {}
        },
        {
          "output_type": "display_data",
          "data": {
            "text/plain": [
              "<IPython.core.display.HTML object>"
            ],
            "text/html": [
              " View run <strong style=\"color:#cdcd00\">eager-brook-1</strong> at: <a href='https://wandb.ai/repatikosam2025-tabor-college/lineage-example/runs/jdgtny82' target=\"_blank\">https://wandb.ai/repatikosam2025-tabor-college/lineage-example/runs/jdgtny82</a><br> View project at: <a href='https://wandb.ai/repatikosam2025-tabor-college/lineage-example' target=\"_blank\">https://wandb.ai/repatikosam2025-tabor-college/lineage-example</a><br>Synced 5 W&B file(s), 0 media file(s), 12 artifact file(s) and 0 other file(s)"
            ]
          },
          "metadata": {}
        },
        {
          "output_type": "display_data",
          "data": {
            "text/plain": [
              "<IPython.core.display.HTML object>"
            ],
            "text/html": [
              "Find logs at: <code>./wandb/run-20250428_222045-jdgtny82/logs</code>"
            ]
          },
          "metadata": {}
        },
        {
          "output_type": "display_data",
          "data": {
            "text/plain": [
              "<IPython.core.display.HTML object>"
            ],
            "text/html": [
              "Tracking run with wandb version 0.19.10"
            ]
          },
          "metadata": {}
        },
        {
          "output_type": "display_data",
          "data": {
            "text/plain": [
              "<IPython.core.display.HTML object>"
            ],
            "text/html": [
              "Run data is saved locally in <code>/content/wandb/run-20250428_222052-3io825d0</code>"
            ]
          },
          "metadata": {}
        },
        {
          "output_type": "display_data",
          "data": {
            "text/plain": [
              "<IPython.core.display.HTML object>"
            ],
            "text/html": [
              "Syncing run <strong><a href='https://wandb.ai/repatikosam2025-tabor-college/lineage-example/runs/3io825d0' target=\"_blank\">fallen-galaxy-2</a></strong> to <a href='https://wandb.ai/repatikosam2025-tabor-college/lineage-example' target=\"_blank\">Weights & Biases</a> (<a href='https://wandb.me/developer-guide' target=\"_blank\">docs</a>)<br>"
            ]
          },
          "metadata": {}
        },
        {
          "output_type": "display_data",
          "data": {
            "text/plain": [
              "<IPython.core.display.HTML object>"
            ],
            "text/html": [
              " View project at <a href='https://wandb.ai/repatikosam2025-tabor-college/lineage-example' target=\"_blank\">https://wandb.ai/repatikosam2025-tabor-college/lineage-example</a>"
            ]
          },
          "metadata": {}
        },
        {
          "output_type": "display_data",
          "data": {
            "text/plain": [
              "<IPython.core.display.HTML object>"
            ],
            "text/html": [
              " View run at <a href='https://wandb.ai/repatikosam2025-tabor-college/lineage-example/runs/3io825d0' target=\"_blank\">https://wandb.ai/repatikosam2025-tabor-college/lineage-example/runs/3io825d0</a>"
            ]
          },
          "metadata": {}
        },
        {
          "output_type": "display_data",
          "data": {
            "text/plain": [
              "<IPython.core.display.HTML object>"
            ],
            "text/html": []
          },
          "metadata": {}
        },
        {
          "output_type": "display_data",
          "data": {
            "text/plain": [
              "<IPython.core.display.HTML object>"
            ],
            "text/html": [
              " View run <strong style=\"color:#cdcd00\">fallen-galaxy-2</strong> at: <a href='https://wandb.ai/repatikosam2025-tabor-college/lineage-example/runs/3io825d0' target=\"_blank\">https://wandb.ai/repatikosam2025-tabor-college/lineage-example/runs/3io825d0</a><br> View project at: <a href='https://wandb.ai/repatikosam2025-tabor-college/lineage-example' target=\"_blank\">https://wandb.ai/repatikosam2025-tabor-college/lineage-example</a><br>Synced 5 W&B file(s), 0 media file(s), 12 artifact file(s) and 0 other file(s)"
            ]
          },
          "metadata": {}
        },
        {
          "output_type": "display_data",
          "data": {
            "text/plain": [
              "<IPython.core.display.HTML object>"
            ],
            "text/html": [
              "Find logs at: <code>./wandb/run-20250428_222052-3io825d0/logs</code>"
            ]
          },
          "metadata": {}
        },
        {
          "output_type": "display_data",
          "data": {
            "text/plain": [
              "<IPython.core.display.HTML object>"
            ],
            "text/html": [
              "Tracking run with wandb version 0.19.10"
            ]
          },
          "metadata": {}
        },
        {
          "output_type": "display_data",
          "data": {
            "text/plain": [
              "<IPython.core.display.HTML object>"
            ],
            "text/html": [
              "Run data is saved locally in <code>/content/wandb/run-20250428_222100-0vprgc6q</code>"
            ]
          },
          "metadata": {}
        },
        {
          "output_type": "display_data",
          "data": {
            "text/plain": [
              "<IPython.core.display.HTML object>"
            ],
            "text/html": [
              "Syncing run <strong><a href='https://wandb.ai/repatikosam2025-tabor-college/lineage-example/runs/0vprgc6q' target=\"_blank\">deep-deluge-3</a></strong> to <a href='https://wandb.ai/repatikosam2025-tabor-college/lineage-example' target=\"_blank\">Weights & Biases</a> (<a href='https://wandb.me/developer-guide' target=\"_blank\">docs</a>)<br>"
            ]
          },
          "metadata": {}
        },
        {
          "output_type": "display_data",
          "data": {
            "text/plain": [
              "<IPython.core.display.HTML object>"
            ],
            "text/html": [
              " View project at <a href='https://wandb.ai/repatikosam2025-tabor-college/lineage-example' target=\"_blank\">https://wandb.ai/repatikosam2025-tabor-college/lineage-example</a>"
            ]
          },
          "metadata": {}
        },
        {
          "output_type": "display_data",
          "data": {
            "text/plain": [
              "<IPython.core.display.HTML object>"
            ],
            "text/html": [
              " View run at <a href='https://wandb.ai/repatikosam2025-tabor-college/lineage-example/runs/0vprgc6q' target=\"_blank\">https://wandb.ai/repatikosam2025-tabor-college/lineage-example/runs/0vprgc6q</a>"
            ]
          },
          "metadata": {}
        },
        {
          "output_type": "display_data",
          "data": {
            "text/plain": [
              "<IPython.core.display.HTML object>"
            ],
            "text/html": []
          },
          "metadata": {}
        },
        {
          "output_type": "display_data",
          "data": {
            "text/plain": [
              "<IPython.core.display.HTML object>"
            ],
            "text/html": [
              " View run <strong style=\"color:#cdcd00\">deep-deluge-3</strong> at: <a href='https://wandb.ai/repatikosam2025-tabor-college/lineage-example/runs/0vprgc6q' target=\"_blank\">https://wandb.ai/repatikosam2025-tabor-college/lineage-example/runs/0vprgc6q</a><br> View project at: <a href='https://wandb.ai/repatikosam2025-tabor-college/lineage-example' target=\"_blank\">https://wandb.ai/repatikosam2025-tabor-college/lineage-example</a><br>Synced 5 W&B file(s), 0 media file(s), 6 artifact file(s) and 0 other file(s)"
            ]
          },
          "metadata": {}
        },
        {
          "output_type": "display_data",
          "data": {
            "text/plain": [
              "<IPython.core.display.HTML object>"
            ],
            "text/html": [
              "Find logs at: <code>./wandb/run-20250428_222100-0vprgc6q/logs</code>"
            ]
          },
          "metadata": {}
        },
        {
          "output_type": "display_data",
          "data": {
            "text/plain": [
              "<IPython.core.display.HTML object>"
            ],
            "text/html": [
              "Tracking run with wandb version 0.19.10"
            ]
          },
          "metadata": {}
        },
        {
          "output_type": "display_data",
          "data": {
            "text/plain": [
              "<IPython.core.display.HTML object>"
            ],
            "text/html": [
              "Run data is saved locally in <code>/content/wandb/run-20250428_222107-eopev8dj</code>"
            ]
          },
          "metadata": {}
        },
        {
          "output_type": "display_data",
          "data": {
            "text/plain": [
              "<IPython.core.display.HTML object>"
            ],
            "text/html": [
              "Syncing run <strong><a href='https://wandb.ai/repatikosam2025-tabor-college/lineage-example/runs/eopev8dj' target=\"_blank\">treasured-shape-4</a></strong> to <a href='https://wandb.ai/repatikosam2025-tabor-college/lineage-example' target=\"_blank\">Weights & Biases</a> (<a href='https://wandb.me/developer-guide' target=\"_blank\">docs</a>)<br>"
            ]
          },
          "metadata": {}
        },
        {
          "output_type": "display_data",
          "data": {
            "text/plain": [
              "<IPython.core.display.HTML object>"
            ],
            "text/html": [
              " View project at <a href='https://wandb.ai/repatikosam2025-tabor-college/lineage-example' target=\"_blank\">https://wandb.ai/repatikosam2025-tabor-college/lineage-example</a>"
            ]
          },
          "metadata": {}
        },
        {
          "output_type": "display_data",
          "data": {
            "text/plain": [
              "<IPython.core.display.HTML object>"
            ],
            "text/html": [
              " View run at <a href='https://wandb.ai/repatikosam2025-tabor-college/lineage-example/runs/eopev8dj' target=\"_blank\">https://wandb.ai/repatikosam2025-tabor-college/lineage-example/runs/eopev8dj</a>"
            ]
          },
          "metadata": {}
        },
        {
          "output_type": "display_data",
          "data": {
            "text/plain": [
              "<IPython.core.display.HTML object>"
            ],
            "text/html": []
          },
          "metadata": {}
        },
        {
          "output_type": "display_data",
          "data": {
            "text/plain": [
              "<IPython.core.display.HTML object>"
            ],
            "text/html": [
              " View run <strong style=\"color:#cdcd00\">treasured-shape-4</strong> at: <a href='https://wandb.ai/repatikosam2025-tabor-college/lineage-example/runs/eopev8dj' target=\"_blank\">https://wandb.ai/repatikosam2025-tabor-college/lineage-example/runs/eopev8dj</a><br> View project at: <a href='https://wandb.ai/repatikosam2025-tabor-college/lineage-example' target=\"_blank\">https://wandb.ai/repatikosam2025-tabor-college/lineage-example</a><br>Synced 5 W&B file(s), 0 media file(s), 6 artifact file(s) and 0 other file(s)"
            ]
          },
          "metadata": {}
        },
        {
          "output_type": "display_data",
          "data": {
            "text/plain": [
              "<IPython.core.display.HTML object>"
            ],
            "text/html": [
              "Find logs at: <code>./wandb/run-20250428_222107-eopev8dj/logs</code>"
            ]
          },
          "metadata": {}
        },
        {
          "output_type": "display_data",
          "data": {
            "text/plain": [
              "<IPython.core.display.HTML object>"
            ],
            "text/html": [
              "Tracking run with wandb version 0.19.10"
            ]
          },
          "metadata": {}
        },
        {
          "output_type": "display_data",
          "data": {
            "text/plain": [
              "<IPython.core.display.HTML object>"
            ],
            "text/html": [
              "Run data is saved locally in <code>/content/wandb/run-20250428_222114-gymro6dr</code>"
            ]
          },
          "metadata": {}
        },
        {
          "output_type": "display_data",
          "data": {
            "text/plain": [
              "<IPython.core.display.HTML object>"
            ],
            "text/html": [
              "Syncing run <strong><a href='https://wandb.ai/repatikosam2025-tabor-college/lineage-example/runs/gymro6dr' target=\"_blank\">golden-meadow-5</a></strong> to <a href='https://wandb.ai/repatikosam2025-tabor-college/lineage-example' target=\"_blank\">Weights & Biases</a> (<a href='https://wandb.me/developer-guide' target=\"_blank\">docs</a>)<br>"
            ]
          },
          "metadata": {}
        },
        {
          "output_type": "display_data",
          "data": {
            "text/plain": [
              "<IPython.core.display.HTML object>"
            ],
            "text/html": [
              " View project at <a href='https://wandb.ai/repatikosam2025-tabor-college/lineage-example' target=\"_blank\">https://wandb.ai/repatikosam2025-tabor-college/lineage-example</a>"
            ]
          },
          "metadata": {}
        },
        {
          "output_type": "display_data",
          "data": {
            "text/plain": [
              "<IPython.core.display.HTML object>"
            ],
            "text/html": [
              " View run at <a href='https://wandb.ai/repatikosam2025-tabor-college/lineage-example/runs/gymro6dr' target=\"_blank\">https://wandb.ai/repatikosam2025-tabor-college/lineage-example/runs/gymro6dr</a>"
            ]
          },
          "metadata": {}
        },
        {
          "output_type": "display_data",
          "data": {
            "text/plain": [
              "<IPython.core.display.HTML object>"
            ],
            "text/html": []
          },
          "metadata": {}
        },
        {
          "output_type": "display_data",
          "data": {
            "text/plain": [
              "<IPython.core.display.HTML object>"
            ],
            "text/html": [
              " View run <strong style=\"color:#cdcd00\">golden-meadow-5</strong> at: <a href='https://wandb.ai/repatikosam2025-tabor-college/lineage-example/runs/gymro6dr' target=\"_blank\">https://wandb.ai/repatikosam2025-tabor-college/lineage-example/runs/gymro6dr</a><br> View project at: <a href='https://wandb.ai/repatikosam2025-tabor-college/lineage-example' target=\"_blank\">https://wandb.ai/repatikosam2025-tabor-college/lineage-example</a><br>Synced 5 W&B file(s), 0 media file(s), 6 artifact file(s) and 0 other file(s)"
            ]
          },
          "metadata": {}
        },
        {
          "output_type": "display_data",
          "data": {
            "text/plain": [
              "<IPython.core.display.HTML object>"
            ],
            "text/html": [
              "Find logs at: <code>./wandb/run-20250428_222114-gymro6dr/logs</code>"
            ]
          },
          "metadata": {}
        },
        {
          "output_type": "display_data",
          "data": {
            "text/plain": [
              "<IPython.core.display.HTML object>"
            ],
            "text/html": [
              "Tracking run with wandb version 0.19.10"
            ]
          },
          "metadata": {}
        },
        {
          "output_type": "display_data",
          "data": {
            "text/plain": [
              "<IPython.core.display.HTML object>"
            ],
            "text/html": [
              "Run data is saved locally in <code>/content/wandb/run-20250428_222121-57ck3whn</code>"
            ]
          },
          "metadata": {}
        },
        {
          "output_type": "display_data",
          "data": {
            "text/plain": [
              "<IPython.core.display.HTML object>"
            ],
            "text/html": [
              "Syncing run <strong><a href='https://wandb.ai/repatikosam2025-tabor-college/lineage-example/runs/57ck3whn' target=\"_blank\">helpful-donkey-6</a></strong> to <a href='https://wandb.ai/repatikosam2025-tabor-college/lineage-example' target=\"_blank\">Weights & Biases</a> (<a href='https://wandb.me/developer-guide' target=\"_blank\">docs</a>)<br>"
            ]
          },
          "metadata": {}
        },
        {
          "output_type": "display_data",
          "data": {
            "text/plain": [
              "<IPython.core.display.HTML object>"
            ],
            "text/html": [
              " View project at <a href='https://wandb.ai/repatikosam2025-tabor-college/lineage-example' target=\"_blank\">https://wandb.ai/repatikosam2025-tabor-college/lineage-example</a>"
            ]
          },
          "metadata": {}
        },
        {
          "output_type": "display_data",
          "data": {
            "text/plain": [
              "<IPython.core.display.HTML object>"
            ],
            "text/html": [
              " View run at <a href='https://wandb.ai/repatikosam2025-tabor-college/lineage-example/runs/57ck3whn' target=\"_blank\">https://wandb.ai/repatikosam2025-tabor-college/lineage-example/runs/57ck3whn</a>"
            ]
          },
          "metadata": {}
        },
        {
          "output_type": "display_data",
          "data": {
            "text/plain": [
              "<IPython.core.display.HTML object>"
            ],
            "text/html": []
          },
          "metadata": {}
        },
        {
          "output_type": "display_data",
          "data": {
            "text/plain": [
              "<IPython.core.display.HTML object>"
            ],
            "text/html": [
              " View run <strong style=\"color:#cdcd00\">helpful-donkey-6</strong> at: <a href='https://wandb.ai/repatikosam2025-tabor-college/lineage-example/runs/57ck3whn' target=\"_blank\">https://wandb.ai/repatikosam2025-tabor-college/lineage-example/runs/57ck3whn</a><br> View project at: <a href='https://wandb.ai/repatikosam2025-tabor-college/lineage-example' target=\"_blank\">https://wandb.ai/repatikosam2025-tabor-college/lineage-example</a><br>Synced 5 W&B file(s), 0 media file(s), 6 artifact file(s) and 0 other file(s)"
            ]
          },
          "metadata": {}
        },
        {
          "output_type": "display_data",
          "data": {
            "text/plain": [
              "<IPython.core.display.HTML object>"
            ],
            "text/html": [
              "Find logs at: <code>./wandb/run-20250428_222121-57ck3whn/logs</code>"
            ]
          },
          "metadata": {}
        },
        {
          "output_type": "display_data",
          "data": {
            "text/plain": [
              "<IPython.core.display.HTML object>"
            ],
            "text/html": [
              "Tracking run with wandb version 0.19.10"
            ]
          },
          "metadata": {}
        },
        {
          "output_type": "display_data",
          "data": {
            "text/plain": [
              "<IPython.core.display.HTML object>"
            ],
            "text/html": [
              "Run data is saved locally in <code>/content/wandb/run-20250428_222128-7z4gbbbi</code>"
            ]
          },
          "metadata": {}
        },
        {
          "output_type": "display_data",
          "data": {
            "text/plain": [
              "<IPython.core.display.HTML object>"
            ],
            "text/html": [
              "Syncing run <strong><a href='https://wandb.ai/repatikosam2025-tabor-college/lineage-example/runs/7z4gbbbi' target=\"_blank\">easy-wave-7</a></strong> to <a href='https://wandb.ai/repatikosam2025-tabor-college/lineage-example' target=\"_blank\">Weights & Biases</a> (<a href='https://wandb.me/developer-guide' target=\"_blank\">docs</a>)<br>"
            ]
          },
          "metadata": {}
        },
        {
          "output_type": "display_data",
          "data": {
            "text/plain": [
              "<IPython.core.display.HTML object>"
            ],
            "text/html": [
              " View project at <a href='https://wandb.ai/repatikosam2025-tabor-college/lineage-example' target=\"_blank\">https://wandb.ai/repatikosam2025-tabor-college/lineage-example</a>"
            ]
          },
          "metadata": {}
        },
        {
          "output_type": "display_data",
          "data": {
            "text/plain": [
              "<IPython.core.display.HTML object>"
            ],
            "text/html": [
              " View run at <a href='https://wandb.ai/repatikosam2025-tabor-college/lineage-example/runs/7z4gbbbi' target=\"_blank\">https://wandb.ai/repatikosam2025-tabor-college/lineage-example/runs/7z4gbbbi</a>"
            ]
          },
          "metadata": {}
        },
        {
          "output_type": "display_data",
          "data": {
            "text/plain": [
              "<IPython.core.display.HTML object>"
            ],
            "text/html": []
          },
          "metadata": {}
        },
        {
          "output_type": "display_data",
          "data": {
            "text/plain": [
              "<IPython.core.display.HTML object>"
            ],
            "text/html": [
              " View run <strong style=\"color:#cdcd00\">easy-wave-7</strong> at: <a href='https://wandb.ai/repatikosam2025-tabor-college/lineage-example/runs/7z4gbbbi' target=\"_blank\">https://wandb.ai/repatikosam2025-tabor-college/lineage-example/runs/7z4gbbbi</a><br> View project at: <a href='https://wandb.ai/repatikosam2025-tabor-college/lineage-example' target=\"_blank\">https://wandb.ai/repatikosam2025-tabor-college/lineage-example</a><br>Synced 5 W&B file(s), 0 media file(s), 6 artifact file(s) and 0 other file(s)"
            ]
          },
          "metadata": {}
        },
        {
          "output_type": "display_data",
          "data": {
            "text/plain": [
              "<IPython.core.display.HTML object>"
            ],
            "text/html": [
              "Find logs at: <code>./wandb/run-20250428_222128-7z4gbbbi/logs</code>"
            ]
          },
          "metadata": {}
        },
        {
          "output_type": "display_data",
          "data": {
            "text/plain": [
              "<IPython.core.display.HTML object>"
            ],
            "text/html": [
              "Tracking run with wandb version 0.19.10"
            ]
          },
          "metadata": {}
        },
        {
          "output_type": "display_data",
          "data": {
            "text/plain": [
              "<IPython.core.display.HTML object>"
            ],
            "text/html": [
              "Run data is saved locally in <code>/content/wandb/run-20250428_222135-jsub2u7b</code>"
            ]
          },
          "metadata": {}
        },
        {
          "output_type": "display_data",
          "data": {
            "text/plain": [
              "<IPython.core.display.HTML object>"
            ],
            "text/html": [
              "Syncing run <strong><a href='https://wandb.ai/repatikosam2025-tabor-college/lineage-example/runs/jsub2u7b' target=\"_blank\">twilight-armadillo-8</a></strong> to <a href='https://wandb.ai/repatikosam2025-tabor-college/lineage-example' target=\"_blank\">Weights & Biases</a> (<a href='https://wandb.me/developer-guide' target=\"_blank\">docs</a>)<br>"
            ]
          },
          "metadata": {}
        },
        {
          "output_type": "display_data",
          "data": {
            "text/plain": [
              "<IPython.core.display.HTML object>"
            ],
            "text/html": [
              " View project at <a href='https://wandb.ai/repatikosam2025-tabor-college/lineage-example' target=\"_blank\">https://wandb.ai/repatikosam2025-tabor-college/lineage-example</a>"
            ]
          },
          "metadata": {}
        },
        {
          "output_type": "display_data",
          "data": {
            "text/plain": [
              "<IPython.core.display.HTML object>"
            ],
            "text/html": [
              " View run at <a href='https://wandb.ai/repatikosam2025-tabor-college/lineage-example/runs/jsub2u7b' target=\"_blank\">https://wandb.ai/repatikosam2025-tabor-college/lineage-example/runs/jsub2u7b</a>"
            ]
          },
          "metadata": {}
        },
        {
          "output_type": "display_data",
          "data": {
            "text/plain": [
              "<IPython.core.display.HTML object>"
            ],
            "text/html": []
          },
          "metadata": {}
        },
        {
          "output_type": "display_data",
          "data": {
            "text/plain": [
              "<IPython.core.display.HTML object>"
            ],
            "text/html": [
              " View run <strong style=\"color:#cdcd00\">twilight-armadillo-8</strong> at: <a href='https://wandb.ai/repatikosam2025-tabor-college/lineage-example/runs/jsub2u7b' target=\"_blank\">https://wandb.ai/repatikosam2025-tabor-college/lineage-example/runs/jsub2u7b</a><br> View project at: <a href='https://wandb.ai/repatikosam2025-tabor-college/lineage-example' target=\"_blank\">https://wandb.ai/repatikosam2025-tabor-college/lineage-example</a><br>Synced 5 W&B file(s), 0 media file(s), 2 artifact file(s) and 0 other file(s)"
            ]
          },
          "metadata": {}
        },
        {
          "output_type": "display_data",
          "data": {
            "text/plain": [
              "<IPython.core.display.HTML object>"
            ],
            "text/html": [
              "Find logs at: <code>./wandb/run-20250428_222135-jsub2u7b/logs</code>"
            ]
          },
          "metadata": {}
        }
      ],
      "source": [
        "#@title ## Log Runs { run: \"auto\", display-mode: \"form\" }\n",
        "#@markdown This will create a Weights & Biases project for you and log runs to it.\n",
        "#@markdown Please choose a project name, or just leave the default one as is.  This can take 3-4 minutes to run.\n",
        "\n",
        "LOG_DUMMY_RUNS = True\n",
        "\n",
        "\n",
        "import requests\n",
        "from PIL import Image\n",
        "from io import BytesIO\n",
        "import wandb\n",
        "import pandas as pd\n",
        "from itertools import product\n",
        "import random\n",
        "import math\n",
        "\n",
        "import wandb\n",
        "import random\n",
        "import string\n",
        "\n",
        "ENTITY = wandb.apis.PublicApi().default_entity\n",
        "PROJECT = \"cicd-quickstart\" #@param {type: \"string\"}\n",
        "LINEAGE_PROJECT = \"lineage-example\"\n",
        "\n",
        "\n",
        "def get_image(url):\n",
        "    r = requests.get(url)\n",
        "    return Image.open(BytesIO(r.content))\n",
        "\n",
        "\n",
        "def log_dummy_data():\n",
        "    run_names = [\n",
        "        \"adventurous-aardvark-1\",\n",
        "        \"bountiful-badger-2\",\n",
        "        \"clairvoyant-chipmunk-3\",\n",
        "        \"dastardly-duck-4\",\n",
        "        \"eloquent-elephant-5\",\n",
        "        \"flippant-flamingo-6\",\n",
        "        \"giddy-giraffe-7\",\n",
        "        \"haughty-hippo-8\",\n",
        "        \"ignorant-iguana-9\",\n",
        "        \"jolly-jackal-10\",\n",
        "        \"kind-koala-11\",\n",
        "        \"laughing-lemur-12\",\n",
        "        \"manic-mandrill-13\",\n",
        "        \"neighbourly-narwhal-14\",\n",
        "        \"oblivious-octopus-15\",\n",
        "        \"philistine-platypus-16\",\n",
        "        \"quant-quail-17\",\n",
        "        \"rowdy-rhino-18\",\n",
        "        \"solid-snake-19\",\n",
        "        \"timid-tarantula-20\",\n",
        "        \"understanding-unicorn-21\",\n",
        "        \"voracious-vulture-22\",\n",
        "        \"wu-tang-23\",\n",
        "        \"xenic-xerneas-24\",\n",
        "        \"yielding-yveltal-25\",\n",
        "        \"zooming-zygarde-26\",\n",
        "    ]\n",
        "\n",
        "    opts = [\"adam\", \"sgd\"]\n",
        "    encoders = [\"resnet18\", \"resnet50\"]\n",
        "    learning_rates = [0.01]\n",
        "    for (i, run_name), (opt, encoder, lr) in zip(\n",
        "        enumerate(run_names), product(opts, encoders, learning_rates)\n",
        "    ):\n",
        "        config = {\n",
        "            \"optimizer\": opt,\n",
        "            \"encoder\": encoder,\n",
        "            \"learning_rate\": lr,\n",
        "            \"momentum\": 0.1 * random.random(),\n",
        "        }\n",
        "        displacement1 = random.random() * 2\n",
        "        displacement2 = random.random() * 4\n",
        "        with wandb.init(\n",
        "            entity=ENTITY, project=PROJECT, config=config, name=run_name\n",
        "        ) as run:\n",
        "            for step in range(1000):\n",
        "                wandb.log(\n",
        "                    {\n",
        "                        \"acc\": 0.1\n",
        "                        + 0.4\n",
        "                        * (\n",
        "                            math.log(1 + step + random.random())\n",
        "                            + random.random() * run.config.learning_rate\n",
        "                            + random.random()\n",
        "                            + displacement1\n",
        "                            + random.random() * run.config.momentum\n",
        "                        ),\n",
        "                        \"val_acc\": 0.1\n",
        "                        + 0.4\n",
        "                        * (\n",
        "                            math.log(1 + step + random.random())\n",
        "                            + random.random() * run.config.learning_rate\n",
        "                            - random.random()\n",
        "                            + displacement1\n",
        "                        ),\n",
        "                        \"loss\": 0.1\n",
        "                        + 0.08\n",
        "                        * (\n",
        "                            3.5\n",
        "                            - math.log(1 + step + random.random())\n",
        "                            + random.random() * run.config.momentum\n",
        "                            + random.random()\n",
        "                            + displacement2\n",
        "                        ),\n",
        "                        \"val_loss\": 0.1\n",
        "                        + 0.04\n",
        "                        * (\n",
        "                            4.5\n",
        "                            - math.log(1 + step + random.random())\n",
        "                            + random.random() * run.config.learning_rate\n",
        "                            - random.random()\n",
        "                            + displacement2\n",
        "                        ),\n",
        "                    }\n",
        "                )\n",
        "\n",
        "    with wandb.init(\n",
        "        entity=ENTITY, project=PROJECT, config=config, name=run_names[i + 1]\n",
        "    ) as run:\n",
        "        img = get_image(\n",
        "            \"https://www.akc.org/wp-content/uploads/2017/11/Shiba-Inu-standing-in-profile-outdoors.jpg\"\n",
        "        )\n",
        "        image = wandb.Image(img)\n",
        "        df = pd.DataFrame(\n",
        "            {\n",
        "                \"int\": [1, 2, 3, 4],\n",
        "                \"float\": [1.2, 2.3, 3.4, 4.5],\n",
        "                \"str\": [\"a\", \"b\", \"c\", \"d\"],\n",
        "                \"img\": [image] * 4,\n",
        "            }\n",
        "        )\n",
        "        run.log({\"img\": image, \"my-table\": df})\n",
        "\n",
        "\n",
        "class Step:\n",
        "    def __init__(self, j, r, u, o, at=None):\n",
        "        self.job_type = j\n",
        "        self.runs = r\n",
        "        self.uses_per_run = u\n",
        "        self.outputs_per_run = o\n",
        "        self.artifact_type = at if at is not None else \"model\"\n",
        "        self.artifacts = []\n",
        "\n",
        "\n",
        "def create_artifact(name: str, type: str, content: str):\n",
        "    art = wandb.Artifact(name, type)\n",
        "    with open(\"boom.txt\", \"w\") as f:\n",
        "        f.write(content)\n",
        "    art.add_file(\"boom.txt\", \"test-name\")\n",
        "\n",
        "    img = get_image(\n",
        "        \"https://www.akc.org/wp-content/uploads/2017/11/Shiba-Inu-standing-in-profile-outdoors.jpg\"\n",
        "    )\n",
        "    image = wandb.Image(img)\n",
        "    df = pd.DataFrame(\n",
        "        {\n",
        "            \"int\": [1, 2, 3, 4],\n",
        "            \"float\": [1.2, 2.3, 3.4, 4.5],\n",
        "            \"str\": [\"a\", \"b\", \"c\", \"d\"],\n",
        "            \"img\": [image] * 4,\n",
        "        }\n",
        "    )\n",
        "    art.add(wandb.Table(dataframe=df), \"dataframe\")\n",
        "    return art\n",
        "\n",
        "\n",
        "def log_dummy_lineage():\n",
        "    pipeline = [\n",
        "        Step(\"dataset-generator\", 1, 0, 3, \"dataset\"),\n",
        "        Step(\"trainer\", 4, (1, 2), 3),\n",
        "        Step(\"evaluator\", 2, 1, 3),\n",
        "        Step(\"ensemble\", 1, 1, 1),\n",
        "    ]\n",
        "    for (i, step) in enumerate(pipeline):\n",
        "        for _ in range(step.runs):\n",
        "            with wandb.init(project=LINEAGE_PROJECT, job_type=step.job_type) as run:\n",
        "                # use\n",
        "                uses = step.uses_per_run\n",
        "                if type(uses) == tuple:\n",
        "                    uses = random.choice(list(uses))\n",
        "\n",
        "                if i > 0:\n",
        "                    prev_step = pipeline[i - 1]\n",
        "                    input_artifacts = random.sample(prev_step.artifacts, uses)\n",
        "                    for a in input_artifacts:\n",
        "                        run.use_artifact(a)\n",
        "                # log output artifacts\n",
        "                for j in range(step.outputs_per_run):\n",
        "                    # name = ''.join(random.choices(string.ascii_lowercase + string.digits, k=6))\n",
        "                    name = f\"{step.artifact_type}-{j}\"\n",
        "                    content = \"\".join(\n",
        "                        random.choices(string.ascii_lowercase + string.digits, k=12)\n",
        "                    )\n",
        "                    art = create_artifact(name, step.artifact_type, content)\n",
        "                    run.log_artifact(art)\n",
        "                    art.wait()\n",
        "\n",
        "                    # save in pipeline\n",
        "                    step.artifacts.append(art)\n",
        "\n",
        "if LOG_DUMMY_RUNS:\n",
        "  log_dummy_data()\n",
        "  log_dummy_lineage()"
      ]
    },
    {
      "cell_type": "markdown",
      "metadata": {
        "id": "TFba1FS6TpTJ"
      },
      "source": [
        "\n",
        "# 👀 Important! Click On Link To Your Project And Look Around 👀\n",
        "\n",
        "Run the below cell to get a link to your project:"
      ]
    },
    {
      "cell_type": "code",
      "execution_count": null,
      "metadata": {
        "id": "_0Y3lxxXTpTK"
      },
      "outputs": [],
      "source": [
        "from IPython.display import Markdown\n",
        "Markdown(f\"## Your Project's url: https://wandb.ai/{ENTITY}/{PROJECT}\")"
      ]
    }
  ],
  "metadata": {
    "colab": {
      "provenance": [],
      "include_colab_link": true
    },
    "kernelspec": {
      "display_name": "Python 3",
      "language": "python",
      "name": "python3"
    },
    "language_info": {
      "codemirror_mode": {
        "name": "ipython",
        "version": 3
      },
      "file_extension": ".py",
      "mimetype": "text/x-python",
      "name": "python",
      "nbconvert_exporter": "python",
      "pygments_lexer": "ipython3",
      "version": "3.8.13"
    }
  },
  "nbformat": 4,
  "nbformat_minor": 0
}