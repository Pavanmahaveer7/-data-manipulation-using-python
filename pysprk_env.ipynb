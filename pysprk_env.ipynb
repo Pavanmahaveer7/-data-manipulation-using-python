{
  "nbformat": 4,
  "nbformat_minor": 0,
  "metadata": {
    "colab": {
      "name": "pysprk env.ipynb",
      "provenance": [],
      "collapsed_sections": [],
      "toc_visible": true,
      "authorship_tag": "ABX9TyPpTn0lqiDfycdfoq5ulNG9",
      "include_colab_link": true
    },
    "kernelspec": {
      "name": "python3",
      "display_name": "Python 3"
    },
    "language_info": {
      "name": "python"
    }
  },
  "cells": [
    {
      "cell_type": "markdown",
      "metadata": {
        "id": "view-in-github",
        "colab_type": "text"
      },
      "source": [
        "<a href=\"https://colab.research.google.com/github/Pavanmahaveer7/-data-manipulation-using-python/blob/main/pysprk_env.ipynb\" target=\"_parent\"><img src=\"https://colab.research.google.com/assets/colab-badge.svg\" alt=\"Open In Colab\"/></a>"
      ]
    },
    {
      "cell_type": "code",
      "execution_count": null,
      "metadata": {
        "colab": {
          "base_uri": "https://localhost:8080/"
        },
        "id": "1MoUx-EXp1_b",
        "outputId": "ad58838b-3731-4f2b-a9bb-4520d9a97846"
      },
      "outputs": [
        {
          "output_type": "stream",
          "name": "stdout",
          "text": [
            "/content\n"
          ]
        }
      ],
      "source": [
        "!pwd\n"
      ]
    },
    {
      "cell_type": "code",
      "source": [
        "!ls"
      ],
      "metadata": {
        "colab": {
          "base_uri": "https://localhost:8080/"
        },
        "id": "_OsoxPmzq9Kv",
        "outputId": "019fa2d8-31df-42f2-e844-d55e0a13088e"
      },
      "execution_count": null,
      "outputs": [
        {
          "output_type": "stream",
          "name": "stdout",
          "text": [
            "sample_data\n"
          ]
        }
      ]
    },
    {
      "cell_type": "code",
      "source": [
        "!ls /usr/lib/jva/"
      ],
      "metadata": {
        "colab": {
          "base_uri": "https://localhost:8080/"
        },
        "id": "IyxhVKqYrCcO",
        "outputId": "695ae50b-2476-4740-8a2d-37cea374046a"
      },
      "execution_count": null,
      "outputs": [
        {
          "output_type": "stream",
          "name": "stdout",
          "text": [
            "ls: cannot access '/usr/lib/jva/': No such file or directory\n"
          ]
        }
      ]
    },
    {
      "cell_type": "code",
      "source": [
        "!apt-get update\n",
        "!apt-get install openjdk-8-jdk-headless -qq > /dev/null"
      ],
      "metadata": {
        "colab": {
          "base_uri": "https://localhost:8080/"
        },
        "id": "mEX-aWCJrS7R",
        "outputId": "65853084-3941-46d2-fc6a-7fc12ab58fe6"
      },
      "execution_count": 1,
      "outputs": [
        {
          "output_type": "stream",
          "name": "stdout",
          "text": [
            "\r0% [Working]\r            \rGet:1 http://security.ubuntu.com/ubuntu bionic-security InRelease [88.7 kB]\n",
            "\r0% [Connecting to archive.ubuntu.com (91.189.91.38)] [1 InRelease 14.2 kB/88.7 \r                                                                               \rGet:2 http://ppa.launchpad.net/c2d4u.team/c2d4u4.0+/ubuntu bionic InRelease [15.9 kB]\n",
            "\r0% [Connecting to archive.ubuntu.com (91.189.91.38)] [1 InRelease 14.2 kB/88.7 \r0% [Connecting to archive.ubuntu.com (91.189.91.38)] [1 InRelease 88.7 kB/88.7 \r0% [Connecting to archive.ubuntu.com (91.189.91.38)] [Waiting for headers] [Wai\r0% [2 InRelease gpgv 15.9 kB] [Connecting to archive.ubuntu.com (91.189.91.38)]\r                                                                               \rGet:3 https://cloud.r-project.org/bin/linux/ubuntu bionic-cran40/ InRelease [3,626 B]\n",
            "\r0% [2 InRelease gpgv 15.9 kB] [Connecting to archive.ubuntu.com (91.189.91.38)]\r0% [2 InRelease gpgv 15.9 kB] [Connecting to archive.ubuntu.com (91.189.91.38)]\r                                                                               \rHit:4 http://ppa.launchpad.net/cran/libgit2/ubuntu bionic InRelease\n",
            "Hit:5 http://ppa.launchpad.net/deadsnakes/ppa/ubuntu bionic InRelease\n",
            "Hit:6 http://ppa.launchpad.net/graphics-drivers/ppa/ubuntu bionic InRelease\n",
            "Hit:7 http://archive.ubuntu.com/ubuntu bionic InRelease\n",
            "Get:8 http://archive.ubuntu.com/ubuntu bionic-updates InRelease [88.7 kB]\n",
            "Ign:9 https://developer.download.nvidia.com/compute/machine-learning/repos/ubuntu1804/x86_64  InRelease\n",
            "Hit:10 https://developer.download.nvidia.com/compute/cuda/repos/ubuntu1804/x86_64  InRelease\n",
            "Get:11 http://ppa.launchpad.net/c2d4u.team/c2d4u4.0+/ubuntu bionic/main Sources [2,095 kB]\n",
            "Hit:12 https://developer.download.nvidia.com/compute/machine-learning/repos/ubuntu1804/x86_64  Release\n",
            "Get:13 http://ppa.launchpad.net/c2d4u.team/c2d4u4.0+/ubuntu bionic/main amd64 Packages [1,073 kB]\n",
            "Get:14 http://archive.ubuntu.com/ubuntu bionic-backports InRelease [74.6 kB]\n",
            "Get:15 http://security.ubuntu.com/ubuntu bionic-security/universe amd64 Packages [1,533 kB]\n",
            "Get:16 http://security.ubuntu.com/ubuntu bionic-security/main amd64 Packages [2,937 kB]\n",
            "Get:18 http://archive.ubuntu.com/ubuntu bionic-updates/main amd64 Packages [3,369 kB]\n",
            "Get:19 http://archive.ubuntu.com/ubuntu bionic-updates/universe amd64 Packages [2,310 kB]\n",
            "Fetched 13.6 MB in 7s (2,050 kB/s)\n",
            "Reading package lists... Done\n"
          ]
        }
      ]
    },
    {
      "cell_type": "code",
      "source": [
        "!ls /usr/lib/jvm/"
      ],
      "metadata": {
        "colab": {
          "base_uri": "https://localhost:8080/"
        },
        "id": "nkztP7D5rr4G",
        "outputId": "efcbd922-8898-4bf9-83e7-ace16732aa5c"
      },
      "execution_count": 2,
      "outputs": [
        {
          "output_type": "stream",
          "name": "stdout",
          "text": [
            "default-java\t\t   java-11-openjdk-amd64     java-8-openjdk-amd64\n",
            "java-1.11.0-openjdk-amd64  java-1.8.0-openjdk-amd64\n"
          ]
        }
      ]
    },
    {
      "cell_type": "code",
      "source": [
        "#dowload apache spark binary\n",
        "\n",
        "!wget -q https://downloads.apache.org/spark/spark-3.3.0/spark-3.3.0-bin-hadoop3.tgz\n",
        "\n",
        "!tar -xf spark-3.3.0-bin-hadoop3.tgz\n",
        "\n"
      ],
      "metadata": {
        "id": "5lLY_jrNsIJa"
      },
      "execution_count": 3,
      "outputs": []
    },
    {
      "cell_type": "code",
      "source": [
        "!pip install  findspark\n",
        "findspark.init()"
      ],
      "metadata": {
        "colab": {
          "base_uri": "https://localhost:8080/"
        },
        "id": "kX3actTDwdQy",
        "outputId": "a2b0a526-697e-45b5-8ddd-f3f4b05142b4"
      },
      "execution_count": 9,
      "outputs": [
        {
          "output_type": "stream",
          "name": "stdout",
          "text": [
            "Looking in indexes: https://pypi.org/simple, https://us-python.pkg.dev/colab-wheels/public/simple/\n",
            "Requirement already satisfied: findspark in /usr/local/lib/python3.7/dist-packages (2.0.1)\n"
          ]
        }
      ]
    },
    {
      "cell_type": "code",
      "source": [
        "import os\n",
        "os.environ[\"JAVA_HOME\"]= \"/usr/lib/jvm/java-8-openjdk.amd64\"\n",
        "os.environ[\"SPARK_HOME\"]=\"/content/spark-3.3.0-bin-hadoop3\"\n"
      ],
      "metadata": {
        "id": "T0uB9GW6wvFD"
      },
      "execution_count": 10,
      "outputs": []
    },
    {
      "cell_type": "code",
      "source": [
        "!pip install pyspark\n",
        "\n",
        "from pyspark.context import SparkContext\n",
        "\n",
        "from pyspark.sql import SparkSession \n",
        "\n",
        "S=SparkSession.builder \\\n",
        "    .master(\"local\") \\\n",
        "    .appName(\"hii\") \\\n",
        "    .getOrCreate()\n"
      ],
      "metadata": {
        "colab": {
          "base_uri": "https://localhost:8080/"
        },
        "id": "TXfoP-cZPP79",
        "outputId": "2b5e0868-66c6-48a7-981c-66f23f31ad5c"
      },
      "execution_count": 4,
      "outputs": [
        {
          "output_type": "stream",
          "name": "stdout",
          "text": [
            "Looking in indexes: https://pypi.org/simple, https://us-python.pkg.dev/colab-wheels/public/simple/\n",
            "Collecting pyspark\n",
            "  Downloading pyspark-3.3.0.tar.gz (281.3 MB)\n",
            "\u001b[K     |████████████████████████████████| 281.3 MB 48 kB/s \n",
            "\u001b[?25hCollecting py4j==0.10.9.5\n",
            "  Downloading py4j-0.10.9.5-py2.py3-none-any.whl (199 kB)\n",
            "\u001b[K     |████████████████████████████████| 199 kB 56.4 MB/s \n",
            "\u001b[?25hBuilding wheels for collected packages: pyspark\n",
            "  Building wheel for pyspark (setup.py) ... \u001b[?25l\u001b[?25hdone\n",
            "  Created wheel for pyspark: filename=pyspark-3.3.0-py2.py3-none-any.whl size=281764026 sha256=38541a576c84fb48f2d0f795181d26ba5f734cae6f8684a80365c24be4b4f379\n",
            "  Stored in directory: /root/.cache/pip/wheels/7a/8e/1b/f73a52650d2e5f337708d9f6a1750d451a7349a867f928b885\n",
            "Successfully built pyspark\n",
            "Installing collected packages: py4j, pyspark\n",
            "Successfully installed py4j-0.10.9.5 pyspark-3.3.0\n"
          ]
        }
      ]
    },
    {
      "cell_type": "code",
      "source": [
        "S\n"
      ],
      "metadata": {
        "colab": {
          "base_uri": "https://localhost:8080/",
          "height": 219
        },
        "id": "0i9TLq53RPtk",
        "outputId": "70ac7f3f-ea81-4cc2-9a30-1d78f136fc4e"
      },
      "execution_count": 11,
      "outputs": [
        {
          "output_type": "execute_result",
          "data": {
            "text/plain": [
              "<pyspark.sql.session.SparkSession at 0x7f6fbba28d90>"
            ],
            "text/html": [
              "\n",
              "            <div>\n",
              "                <p><b>SparkSession - in-memory</b></p>\n",
              "                \n",
              "        <div>\n",
              "            <p><b>SparkContext</b></p>\n",
              "\n",
              "            <p><a href=\"http://fe2665422278:4040\">Spark UI</a></p>\n",
              "\n",
              "            <dl>\n",
              "              <dt>Version</dt>\n",
              "                <dd><code>v3.3.0</code></dd>\n",
              "              <dt>Master</dt>\n",
              "                <dd><code>local</code></dd>\n",
              "              <dt>AppName</dt>\n",
              "                <dd><code>hii</code></dd>\n",
              "            </dl>\n",
              "        </div>\n",
              "        \n",
              "            </div>\n",
              "        "
            ]
          },
          "metadata": {},
          "execution_count": 11
        }
      ]
    },
    {
      "cell_type": "code",
      "source": [
        "!wget -q https://archive.ics.uci.edu/ml/machine-learning-databases/00603/in-vehicle-coupon-recommendation.csv -p sample_data/"
      ],
      "metadata": {
        "id": "ucneUpWJXYZX"
      },
      "execution_count": 12,
      "outputs": []
    },
    {
      "cell_type": "code",
      "source": [
        "filepath= \"/content/archive.ics.uci.edu/ml/machine-learning-databases/00603/in-vehicle-coupon-recommendation.csv\"\n",
        "spark_df=S.read.format('csv').options(header='true',inferschema='true').load(filepath)\n",
        "spark_df.show(5)"
      ],
      "metadata": {
        "colab": {
          "base_uri": "https://localhost:8080/"
        },
        "id": "UvJrt0fa2_rX",
        "outputId": "24bed8a8-a3fb-4595-9b3b-b8df2190339a"
      },
      "execution_count": 14,
      "outputs": [
        {
          "output_type": "stream",
          "name": "stdout",
          "text": [
            "+---------------+---------+-------+-----------+----+--------------------+----------+------+---+-----------------+------------+--------------------+----------+---------------+----+-----+-----------+---------+--------------------+----------------+----------------+-----------------+-----------------+--------------+-------------+---+\n",
            "|    destination|passanger|weather|temperature|time|              coupon|expiration|gender|age|    maritalStatus|has_children|           education|occupation|         income| car|  Bar|CoffeeHouse|CarryAway|RestaurantLessThan20|Restaurant20To50|toCoupon_GEQ5min|toCoupon_GEQ15min|toCoupon_GEQ25min|direction_same|direction_opp|  Y|\n",
            "+---------------+---------+-------+-----------+----+--------------------+----------+------+---+-----------------+------------+--------------------+----------+---------------+----+-----+-----------+---------+--------------------+----------------+----------------+-----------------+-----------------+--------------+-------------+---+\n",
            "|No Urgent Place|    Alone|  Sunny|         55| 2PM|     Restaurant(<20)|        1d|Female| 21|Unmarried partner|           1|Some college - no...|Unemployed|$37500 - $49999|null|never|      never|     null|                 4~8|             1~3|               1|                0|                0|             0|            1|  1|\n",
            "|No Urgent Place|Friend(s)|  Sunny|         80|10AM|        Coffee House|        2h|Female| 21|Unmarried partner|           1|Some college - no...|Unemployed|$37500 - $49999|null|never|      never|     null|                 4~8|             1~3|               1|                0|                0|             0|            1|  0|\n",
            "|No Urgent Place|Friend(s)|  Sunny|         80|10AM|Carry out & Take ...|        2h|Female| 21|Unmarried partner|           1|Some college - no...|Unemployed|$37500 - $49999|null|never|      never|     null|                 4~8|             1~3|               1|                1|                0|             0|            1|  1|\n",
            "|No Urgent Place|Friend(s)|  Sunny|         80| 2PM|        Coffee House|        2h|Female| 21|Unmarried partner|           1|Some college - no...|Unemployed|$37500 - $49999|null|never|      never|     null|                 4~8|             1~3|               1|                1|                0|             0|            1|  0|\n",
            "|No Urgent Place|Friend(s)|  Sunny|         80| 2PM|        Coffee House|        1d|Female| 21|Unmarried partner|           1|Some college - no...|Unemployed|$37500 - $49999|null|never|      never|     null|                 4~8|             1~3|               1|                1|                0|             0|            1|  0|\n",
            "+---------------+---------+-------+-----------+----+--------------------+----------+------+---+-----------------+------------+--------------------+----------+---------------+----+-----+-----------+---------+--------------------+----------------+----------------+-----------------+-----------------+--------------+-------------+---+\n",
            "only showing top 5 rows\n",
            "\n"
          ]
        }
      ]
    },
    {
      "cell_type": "code",
      "source": [
        "spark_df.printSchema()\n",
        "type(spark_df)"
      ],
      "metadata": {
        "colab": {
          "base_uri": "https://localhost:8080/"
        },
        "id": "5SbN03Tt3xRr",
        "outputId": "fecb8eb8-95da-4eff-82e8-87343cae2d01"
      },
      "execution_count": 29,
      "outputs": [
        {
          "output_type": "stream",
          "name": "stdout",
          "text": [
            "root\n",
            " |-- destination: string (nullable = true)\n",
            " |-- passanger: string (nullable = true)\n",
            " |-- weather: string (nullable = true)\n",
            " |-- temperature: integer (nullable = true)\n",
            " |-- time: string (nullable = true)\n",
            " |-- coupon: string (nullable = true)\n",
            " |-- expiration: string (nullable = true)\n",
            " |-- gender: string (nullable = true)\n",
            " |-- age: string (nullable = true)\n",
            " |-- maritalStatus: string (nullable = true)\n",
            " |-- has_children: integer (nullable = true)\n",
            " |-- education: string (nullable = true)\n",
            " |-- occupation: string (nullable = true)\n",
            " |-- income: string (nullable = true)\n",
            " |-- car: string (nullable = true)\n",
            " |-- Bar: string (nullable = true)\n",
            " |-- CoffeeHouse: string (nullable = true)\n",
            " |-- CarryAway: string (nullable = true)\n",
            " |-- RestaurantLessThan20: string (nullable = true)\n",
            " |-- Restaurant20To50: string (nullable = true)\n",
            " |-- toCoupon_GEQ5min: integer (nullable = true)\n",
            " |-- toCoupon_GEQ15min: integer (nullable = true)\n",
            " |-- toCoupon_GEQ25min: integer (nullable = true)\n",
            " |-- direction_same: integer (nullable = true)\n",
            " |-- direction_opp: integer (nullable = true)\n",
            " |-- Y: integer (nullable = true)\n",
            "\n"
          ]
        },
        {
          "output_type": "execute_result",
          "data": {
            "text/plain": [
              "pyspark.sql.dataframe.DataFrame"
            ]
          },
          "metadata": {},
          "execution_count": 29
        }
      ]
    },
    {
      "cell_type": "code",
      "source": [
        "#convert sparkdf to pandasdf now after conversion we can use all libraries of py fpr moeling\n",
        "\n",
        "\n",
        "pandas_df=spark_df.toPandas()\n",
        "pandas_df.shape\n",
        "type(pandas_df)\n",
        "\n"
      ],
      "metadata": {
        "colab": {
          "base_uri": "https://localhost:8080/"
        },
        "id": "YRZh85OK5wXk",
        "outputId": "c3c4497a-3839-4bb1-e80b-5cd28d60a1df"
      },
      "execution_count": 30,
      "outputs": [
        {
          "output_type": "execute_result",
          "data": {
            "text/plain": [
              "pandas.core.frame.DataFrame"
            ]
          },
          "metadata": {},
          "execution_count": 30
        }
      ]
    },
    {
      "cell_type": "code",
      "source": [
        "pandas_df.isnull().sum()"
      ],
      "metadata": {
        "colab": {
          "base_uri": "https://localhost:8080/"
        },
        "id": "8wMsC6l06kBb",
        "outputId": "f7106f08-4814-4c24-b958-4f91a660fa93"
      },
      "execution_count": 18,
      "outputs": [
        {
          "output_type": "execute_result",
          "data": {
            "text/plain": [
              "destination                 0\n",
              "passanger                   0\n",
              "weather                     0\n",
              "temperature                 0\n",
              "time                        0\n",
              "coupon                      0\n",
              "expiration                  0\n",
              "gender                      0\n",
              "age                         0\n",
              "maritalStatus               0\n",
              "has_children                0\n",
              "education                   0\n",
              "occupation                  0\n",
              "income                      0\n",
              "car                     12576\n",
              "Bar                       107\n",
              "CoffeeHouse               217\n",
              "CarryAway                 151\n",
              "RestaurantLessThan20      130\n",
              "Restaurant20To50          189\n",
              "toCoupon_GEQ5min            0\n",
              "toCoupon_GEQ15min           0\n",
              "toCoupon_GEQ25min           0\n",
              "direction_same              0\n",
              "direction_opp               0\n",
              "Y                           0\n",
              "dtype: int64"
            ]
          },
          "metadata": {},
          "execution_count": 18
        }
      ]
    },
    {
      "cell_type": "code",
      "source": [
        "#u can use sample function for large data sets\n",
        "\n",
        "sample_pandas=spark_df.sample(withReplacement=False, fraction=0.01).toPandas()\n",
        "sample_pandas.shape"
      ],
      "metadata": {
        "colab": {
          "base_uri": "https://localhost:8080/"
        },
        "id": "l63UtJMS8694",
        "outputId": "8b052e8c-d79d-457c-f175-99b277988865"
      },
      "execution_count": 19,
      "outputs": [
        {
          "output_type": "execute_result",
          "data": {
            "text/plain": [
              "(120, 26)"
            ]
          },
          "metadata": {},
          "execution_count": 19
        }
      ]
    },
    {
      "cell_type": "code",
      "source": [
        "sample_pandas[\"age\"].value_counts()"
      ],
      "metadata": {
        "colab": {
          "base_uri": "https://localhost:8080/"
        },
        "id": "bkXu2Ows9p3X",
        "outputId": "3f76e2d3-8b9b-4e70-f080-9d4aef99c967"
      },
      "execution_count": 21,
      "outputs": [
        {
          "output_type": "execute_result",
          "data": {
            "text/plain": [
              "26         27\n",
              "31         23\n",
              "21         21\n",
              "50plus     19\n",
              "36         13\n",
              "41          7\n",
              "46          6\n",
              "below21     4\n",
              "Name: age, dtype: int64"
            ]
          },
          "metadata": {},
          "execution_count": 21
        }
      ]
    },
    {
      "cell_type": "code",
      "source": [
        "#converting back to spark again\n",
        "\n",
        "pandas_df_subset= pandas_df[[\"destination\",\"weather\",\"age\",\n",
        "                             \"temperature\",\"time\"]].copy()\n",
        "\n",
        "pandas_df_subset.head(2)"
      ],
      "metadata": {
        "colab": {
          "base_uri": "https://localhost:8080/",
          "height": 112
        },
        "id": "ezLrdSOG-KZh",
        "outputId": "7212b904-05f1-4d2e-a274-37633209e940"
      },
      "execution_count": 26,
      "outputs": [
        {
          "output_type": "execute_result",
          "data": {
            "text/plain": [
              "       destination weather age  temperature  time\n",
              "0  No Urgent Place   Sunny  21           55   2PM\n",
              "1  No Urgent Place   Sunny  21           80  10AM"
            ],
            "text/html": [
              "\n",
              "  <div id=\"df-69b6617f-d34b-4e62-bec1-bd36f71ae87a\">\n",
              "    <div class=\"colab-df-container\">\n",
              "      <div>\n",
              "<style scoped>\n",
              "    .dataframe tbody tr th:only-of-type {\n",
              "        vertical-align: middle;\n",
              "    }\n",
              "\n",
              "    .dataframe tbody tr th {\n",
              "        vertical-align: top;\n",
              "    }\n",
              "\n",
              "    .dataframe thead th {\n",
              "        text-align: right;\n",
              "    }\n",
              "</style>\n",
              "<table border=\"1\" class=\"dataframe\">\n",
              "  <thead>\n",
              "    <tr style=\"text-align: right;\">\n",
              "      <th></th>\n",
              "      <th>destination</th>\n",
              "      <th>weather</th>\n",
              "      <th>age</th>\n",
              "      <th>temperature</th>\n",
              "      <th>time</th>\n",
              "    </tr>\n",
              "  </thead>\n",
              "  <tbody>\n",
              "    <tr>\n",
              "      <th>0</th>\n",
              "      <td>No Urgent Place</td>\n",
              "      <td>Sunny</td>\n",
              "      <td>21</td>\n",
              "      <td>55</td>\n",
              "      <td>2PM</td>\n",
              "    </tr>\n",
              "    <tr>\n",
              "      <th>1</th>\n",
              "      <td>No Urgent Place</td>\n",
              "      <td>Sunny</td>\n",
              "      <td>21</td>\n",
              "      <td>80</td>\n",
              "      <td>10AM</td>\n",
              "    </tr>\n",
              "  </tbody>\n",
              "</table>\n",
              "</div>\n",
              "      <button class=\"colab-df-convert\" onclick=\"convertToInteractive('df-69b6617f-d34b-4e62-bec1-bd36f71ae87a')\"\n",
              "              title=\"Convert this dataframe to an interactive table.\"\n",
              "              style=\"display:none;\">\n",
              "        \n",
              "  <svg xmlns=\"http://www.w3.org/2000/svg\" height=\"24px\"viewBox=\"0 0 24 24\"\n",
              "       width=\"24px\">\n",
              "    <path d=\"M0 0h24v24H0V0z\" fill=\"none\"/>\n",
              "    <path d=\"M18.56 5.44l.94 2.06.94-2.06 2.06-.94-2.06-.94-.94-2.06-.94 2.06-2.06.94zm-11 1L8.5 8.5l.94-2.06 2.06-.94-2.06-.94L8.5 2.5l-.94 2.06-2.06.94zm10 10l.94 2.06.94-2.06 2.06-.94-2.06-.94-.94-2.06-.94 2.06-2.06.94z\"/><path d=\"M17.41 7.96l-1.37-1.37c-.4-.4-.92-.59-1.43-.59-.52 0-1.04.2-1.43.59L10.3 9.45l-7.72 7.72c-.78.78-.78 2.05 0 2.83L4 21.41c.39.39.9.59 1.41.59.51 0 1.02-.2 1.41-.59l7.78-7.78 2.81-2.81c.8-.78.8-2.07 0-2.86zM5.41 20L4 18.59l7.72-7.72 1.47 1.35L5.41 20z\"/>\n",
              "  </svg>\n",
              "      </button>\n",
              "      \n",
              "  <style>\n",
              "    .colab-df-container {\n",
              "      display:flex;\n",
              "      flex-wrap:wrap;\n",
              "      gap: 12px;\n",
              "    }\n",
              "\n",
              "    .colab-df-convert {\n",
              "      background-color: #E8F0FE;\n",
              "      border: none;\n",
              "      border-radius: 50%;\n",
              "      cursor: pointer;\n",
              "      display: none;\n",
              "      fill: #1967D2;\n",
              "      height: 32px;\n",
              "      padding: 0 0 0 0;\n",
              "      width: 32px;\n",
              "    }\n",
              "\n",
              "    .colab-df-convert:hover {\n",
              "      background-color: #E2EBFA;\n",
              "      box-shadow: 0px 1px 2px rgba(60, 64, 67, 0.3), 0px 1px 3px 1px rgba(60, 64, 67, 0.15);\n",
              "      fill: #174EA6;\n",
              "    }\n",
              "\n",
              "    [theme=dark] .colab-df-convert {\n",
              "      background-color: #3B4455;\n",
              "      fill: #D2E3FC;\n",
              "    }\n",
              "\n",
              "    [theme=dark] .colab-df-convert:hover {\n",
              "      background-color: #434B5C;\n",
              "      box-shadow: 0px 1px 3px 1px rgba(0, 0, 0, 0.15);\n",
              "      filter: drop-shadow(0px 1px 2px rgba(0, 0, 0, 0.3));\n",
              "      fill: #FFFFFF;\n",
              "    }\n",
              "  </style>\n",
              "\n",
              "      <script>\n",
              "        const buttonEl =\n",
              "          document.querySelector('#df-69b6617f-d34b-4e62-bec1-bd36f71ae87a button.colab-df-convert');\n",
              "        buttonEl.style.display =\n",
              "          google.colab.kernel.accessAllowed ? 'block' : 'none';\n",
              "\n",
              "        async function convertToInteractive(key) {\n",
              "          const element = document.querySelector('#df-69b6617f-d34b-4e62-bec1-bd36f71ae87a');\n",
              "          const dataTable =\n",
              "            await google.colab.kernel.invokeFunction('convertToInteractive',\n",
              "                                                     [key], {});\n",
              "          if (!dataTable) return;\n",
              "\n",
              "          const docLinkHtml = 'Like what you see? Visit the ' +\n",
              "            '<a target=\"_blank\" href=https://colab.research.google.com/notebooks/data_table.ipynb>data table notebook</a>'\n",
              "            + ' to learn more about interactive tables.';\n",
              "          element.innerHTML = '';\n",
              "          dataTable['output_type'] = 'display_data';\n",
              "          await google.colab.output.renderOutput(dataTable, element);\n",
              "          const docLink = document.createElement('div');\n",
              "          docLink.innerHTML = docLinkHtml;\n",
              "          element.appendChild(docLink);\n",
              "        }\n",
              "      </script>\n",
              "    </div>\n",
              "  </div>\n",
              "  "
            ]
          },
          "metadata": {},
          "execution_count": 26
        }
      ]
    },
    {
      "cell_type": "code",
      "source": [
        "#sparkcreatedataframe\n",
        "\n",
        "spark_df_from_pandas =S.createDataFrame(pandas_df_subset)\n",
        "spark_df_from_pandas.show()\n",
        "\n"
      ],
      "metadata": {
        "colab": {
          "base_uri": "https://localhost:8080/"
        },
        "id": "UbKrAIjI_P6r",
        "outputId": "d803b928-dd7f-4c98-f39e-621169e2f3e5"
      },
      "execution_count": 27,
      "outputs": [
        {
          "output_type": "stream",
          "name": "stdout",
          "text": [
            "+---------------+-------+---+-----------+----+\n",
            "|    destination|weather|age|temperature|time|\n",
            "+---------------+-------+---+-----------+----+\n",
            "|No Urgent Place|  Sunny| 21|         55| 2PM|\n",
            "|No Urgent Place|  Sunny| 21|         80|10AM|\n",
            "|No Urgent Place|  Sunny| 21|         80|10AM|\n",
            "|No Urgent Place|  Sunny| 21|         80| 2PM|\n",
            "|No Urgent Place|  Sunny| 21|         80| 2PM|\n",
            "|No Urgent Place|  Sunny| 21|         80| 6PM|\n",
            "|No Urgent Place|  Sunny| 21|         55| 2PM|\n",
            "|No Urgent Place|  Sunny| 21|         80|10AM|\n",
            "|No Urgent Place|  Sunny| 21|         80|10AM|\n",
            "|No Urgent Place|  Sunny| 21|         80|10AM|\n",
            "|No Urgent Place|  Sunny| 21|         80| 2PM|\n",
            "|No Urgent Place|  Sunny| 21|         55| 2PM|\n",
            "|No Urgent Place|  Sunny| 21|         55| 6PM|\n",
            "|           Home|  Sunny| 21|         55| 6PM|\n",
            "|           Home|  Sunny| 21|         55| 6PM|\n",
            "|           Home|  Sunny| 21|         80| 6PM|\n",
            "|           Work|  Sunny| 21|         55| 7AM|\n",
            "|           Work|  Sunny| 21|         55| 7AM|\n",
            "|           Work|  Sunny| 21|         80| 7AM|\n",
            "|           Work|  Sunny| 21|         80| 7AM|\n",
            "+---------------+-------+---+-----------+----+\n",
            "only showing top 20 rows\n",
            "\n"
          ]
        }
      ]
    },
    {
      "cell_type": "code",
      "source": [
        "spark_df_from_pandas.printSchema()"
      ],
      "metadata": {
        "colab": {
          "base_uri": "https://localhost:8080/"
        },
        "id": "2VfeveGjADim",
        "outputId": "b49712f2-a3a8-44c3-f80c-950871db8ed6"
      },
      "execution_count": 28,
      "outputs": [
        {
          "output_type": "stream",
          "name": "stdout",
          "text": [
            "root\n",
            " |-- destination: string (nullable = true)\n",
            " |-- weather: string (nullable = true)\n",
            " |-- age: string (nullable = true)\n",
            " |-- temperature: long (nullable = true)\n",
            " |-- time: string (nullable = true)\n",
            "\n"
          ]
        }
      ]
    },
    {
      "cell_type": "code",
      "source": [
        "from pandas.core.arrays.numeric import *\n",
        "#we dont want long so to save spave use struct type\n",
        "\n",
        "# structType objects define the schema of Spark data frames. struct contain a list of structfield objects that definr the name,type,nullable flag for each column \n",
        "#passin thw custom schema to schema\n",
        "from pyspark.sql.types import *\n",
        "\n",
        "schema= StructType([StructField(\"destination\",StringType(),True),\n",
        "                    StructField(\"weather\",StringType(),True),\n",
        "                    StructField(\"age\",StringType(),True),\n",
        "                    StructField(\"temperature\",IntegerType(),True),\n",
        "                    StructField(\"time\",StringType(),True),\n",
        "                    \n",
        "])\n",
        "\n",
        "spark_df_from_pandas=S.createDataFrame(pandas_df_subset,schema=schema)\n",
        "spark_df_from_pandas.show(4)\n",
        "\n",
        "\n",
        "                   \n",
        "                   \n",
        "                   \n",
        "                  "
      ],
      "metadata": {
        "colab": {
          "base_uri": "https://localhost:8080/"
        },
        "id": "8XFgsSuZAsLJ",
        "outputId": "ab5b566f-f659-46eb-dc87-dcae204d9fac"
      },
      "execution_count": 42,
      "outputs": [
        {
          "output_type": "stream",
          "name": "stdout",
          "text": [
            "+---------------+-------+---+-----------+----+\n",
            "|    destination|weather|age|temperature|time|\n",
            "+---------------+-------+---+-----------+----+\n",
            "|No Urgent Place|  Sunny| 21|         55| 2PM|\n",
            "|No Urgent Place|  Sunny| 21|         80|10AM|\n",
            "|No Urgent Place|  Sunny| 21|         80|10AM|\n",
            "|No Urgent Place|  Sunny| 21|         80| 2PM|\n",
            "+---------------+-------+---+-----------+----+\n",
            "only showing top 4 rows\n",
            "\n"
          ]
        }
      ]
    },
    {
      "cell_type": "code",
      "source": [
        "()"
      ],
      "metadata": {
        "id": "hlpOoYhXE3ER"
      },
      "execution_count": null,
      "outputs": []
    }
  ]
}